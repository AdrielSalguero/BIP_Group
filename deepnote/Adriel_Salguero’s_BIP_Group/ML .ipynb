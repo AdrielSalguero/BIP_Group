{
  "cells": [
    {
      "cell_type": "code",
      "source": "!pip install pandas \n!pip install numpy\n!pip install seaborn\n!pip install matplot.lib\n!pip install sklearn",
      "metadata": {
        "source_hash": "9bfc79a5",
        "execution_start": 1696584724927,
        "execution_millis": 9300,
        "deepnote_to_be_reexecuted": false,
        "cell_id": "58c15e1ba7634fcd8a1814961d1cdc93",
        "deepnote_cell_type": "code"
      },
      "outputs": [
        {
          "name": "stdout",
          "text": "Requirement already satisfied: pandas in /shared-libs/python3.9/py/lib/python3.9/site-packages (1.2.5)\nRequirement already satisfied: numpy>=1.16.5 in /shared-libs/python3.9/py/lib/python3.9/site-packages (from pandas) (1.23.4)\nRequirement already satisfied: python-dateutil>=2.7.3 in /shared-libs/python3.9/py-core/lib/python3.9/site-packages (from pandas) (2.8.2)\nRequirement already satisfied: pytz>=2017.3 in /shared-libs/python3.9/py/lib/python3.9/site-packages (from pandas) (2022.5)\nRequirement already satisfied: six>=1.5 in /shared-libs/python3.9/py-core/lib/python3.9/site-packages (from python-dateutil>=2.7.3->pandas) (1.16.0)\n\n\u001b[1m[\u001b[0m\u001b[34;49mnotice\u001b[0m\u001b[1;39;49m]\u001b[0m\u001b[39;49m A new release of pip is available: \u001b[0m\u001b[31;49m23.0.1\u001b[0m\u001b[39;49m -> \u001b[0m\u001b[32;49m23.2.1\u001b[0m\n\u001b[1m[\u001b[0m\u001b[34;49mnotice\u001b[0m\u001b[1;39;49m]\u001b[0m\u001b[39;49m To update, run: \u001b[0m\u001b[32;49mpip install --upgrade pip\u001b[0m\nRequirement already satisfied: numpy in /shared-libs/python3.9/py/lib/python3.9/site-packages (1.23.4)\n\n\u001b[1m[\u001b[0m\u001b[34;49mnotice\u001b[0m\u001b[1;39;49m]\u001b[0m\u001b[39;49m A new release of pip is available: \u001b[0m\u001b[31;49m23.0.1\u001b[0m\u001b[39;49m -> \u001b[0m\u001b[32;49m23.2.1\u001b[0m\n\u001b[1m[\u001b[0m\u001b[34;49mnotice\u001b[0m\u001b[1;39;49m]\u001b[0m\u001b[39;49m To update, run: \u001b[0m\u001b[32;49mpip install --upgrade pip\u001b[0m\nRequirement already satisfied: seaborn in /shared-libs/python3.9/py/lib/python3.9/site-packages (0.12.1)\nRequirement already satisfied: numpy>=1.17 in /shared-libs/python3.9/py/lib/python3.9/site-packages (from seaborn) (1.23.4)\nRequirement already satisfied: matplotlib!=3.6.1,>=3.1 in /shared-libs/python3.9/py/lib/python3.9/site-packages (from seaborn) (3.6.0)\nRequirement already satisfied: pandas>=0.25 in /shared-libs/python3.9/py/lib/python3.9/site-packages (from seaborn) (1.2.5)\nRequirement already satisfied: python-dateutil>=2.7 in /shared-libs/python3.9/py-core/lib/python3.9/site-packages (from matplotlib!=3.6.1,>=3.1->seaborn) (2.8.2)\nRequirement already satisfied: packaging>=20.0 in /shared-libs/python3.9/py-core/lib/python3.9/site-packages (from matplotlib!=3.6.1,>=3.1->seaborn) (21.3)\nRequirement already satisfied: contourpy>=1.0.1 in /shared-libs/python3.9/py/lib/python3.9/site-packages (from matplotlib!=3.6.1,>=3.1->seaborn) (1.0.5)\nRequirement already satisfied: pillow>=6.2.0 in /shared-libs/python3.9/py/lib/python3.9/site-packages (from matplotlib!=3.6.1,>=3.1->seaborn) (9.2.0)\nRequirement already satisfied: cycler>=0.10 in /shared-libs/python3.9/py/lib/python3.9/site-packages (from matplotlib!=3.6.1,>=3.1->seaborn) (0.11.0)\nRequirement already satisfied: kiwisolver>=1.0.1 in /shared-libs/python3.9/py/lib/python3.9/site-packages (from matplotlib!=3.6.1,>=3.1->seaborn) (1.4.4)\nRequirement already satisfied: pyparsing>=2.2.1 in /shared-libs/python3.9/py-core/lib/python3.9/site-packages (from matplotlib!=3.6.1,>=3.1->seaborn) (3.0.9)\nRequirement already satisfied: fonttools>=4.22.0 in /shared-libs/python3.9/py/lib/python3.9/site-packages (from matplotlib!=3.6.1,>=3.1->seaborn) (4.37.4)\nRequirement already satisfied: pytz>=2017.3 in /shared-libs/python3.9/py/lib/python3.9/site-packages (from pandas>=0.25->seaborn) (2022.5)\nRequirement already satisfied: six>=1.5 in /shared-libs/python3.9/py-core/lib/python3.9/site-packages (from python-dateutil>=2.7->matplotlib!=3.6.1,>=3.1->seaborn) (1.16.0)\n\n\u001b[1m[\u001b[0m\u001b[34;49mnotice\u001b[0m\u001b[1;39;49m]\u001b[0m\u001b[39;49m A new release of pip is available: \u001b[0m\u001b[31;49m23.0.1\u001b[0m\u001b[39;49m -> \u001b[0m\u001b[32;49m23.2.1\u001b[0m\n\u001b[1m[\u001b[0m\u001b[34;49mnotice\u001b[0m\u001b[1;39;49m]\u001b[0m\u001b[39;49m To update, run: \u001b[0m\u001b[32;49mpip install --upgrade pip\u001b[0m\n\u001b[31mERROR: Could not find a version that satisfies the requirement matplot.lib (from versions: none)\u001b[0m\u001b[31m\n\u001b[0m\u001b[31mERROR: No matching distribution found for matplot.lib\u001b[0m\u001b[31m\n\u001b[0m\n\u001b[1m[\u001b[0m\u001b[34;49mnotice\u001b[0m\u001b[1;39;49m]\u001b[0m\u001b[39;49m A new release of pip is available: \u001b[0m\u001b[31;49m23.0.1\u001b[0m\u001b[39;49m -> \u001b[0m\u001b[32;49m23.2.1\u001b[0m\n\u001b[1m[\u001b[0m\u001b[34;49mnotice\u001b[0m\u001b[1;39;49m]\u001b[0m\u001b[39;49m To update, run: \u001b[0m\u001b[32;49mpip install --upgrade pip\u001b[0m\nRequirement already satisfied: sklearn in /root/venv/lib/python3.9/site-packages (0.0.post9)\n\n\u001b[1m[\u001b[0m\u001b[34;49mnotice\u001b[0m\u001b[1;39;49m]\u001b[0m\u001b[39;49m A new release of pip is available: \u001b[0m\u001b[31;49m23.0.1\u001b[0m\u001b[39;49m -> \u001b[0m\u001b[32;49m23.2.1\u001b[0m\n\u001b[1m[\u001b[0m\u001b[34;49mnotice\u001b[0m\u001b[1;39;49m]\u001b[0m\u001b[39;49m To update, run: \u001b[0m\u001b[32;49mpip install --upgrade pip\u001b[0m\n",
          "output_type": "stream"
        }
      ],
      "execution_count": 1,
      "block_group": "58c15e1ba7634fcd8a1814961d1cdc93"
    },
    {
      "cell_type": "code",
      "source": "pip install category-encoders\n",
      "metadata": {
        "source_hash": "2f7f9291",
        "execution_start": 1696584734090,
        "execution_millis": 2405,
        "deepnote_to_be_reexecuted": false,
        "cell_id": "8bf6f0f4a8154ce08b718b51598e4b34",
        "deepnote_cell_type": "code"
      },
      "outputs": [
        {
          "name": "stdout",
          "text": "Requirement already satisfied: category-encoders in /usr/local/lib/python3.9/site-packages (2.6.2)\nRequirement already satisfied: scikit-learn>=0.20.0 in /shared-libs/python3.9/py/lib/python3.9/site-packages (from category-encoders) (1.1.2)\nRequirement already satisfied: scipy>=1.0.0 in /shared-libs/python3.9/py/lib/python3.9/site-packages (from category-encoders) (1.9.3)\nRequirement already satisfied: numpy>=1.14.0 in /shared-libs/python3.9/py/lib/python3.9/site-packages (from category-encoders) (1.23.4)\nRequirement already satisfied: pandas>=1.0.5 in /shared-libs/python3.9/py/lib/python3.9/site-packages (from category-encoders) (1.2.5)\nRequirement already satisfied: patsy>=0.5.1 in /usr/local/lib/python3.9/site-packages (from category-encoders) (0.5.3)\nRequirement already satisfied: statsmodels>=0.9.0 in /usr/local/lib/python3.9/site-packages (from category-encoders) (0.14.0)\nRequirement already satisfied: python-dateutil>=2.7.3 in /shared-libs/python3.9/py-core/lib/python3.9/site-packages (from pandas>=1.0.5->category-encoders) (2.8.2)\nRequirement already satisfied: pytz>=2017.3 in /shared-libs/python3.9/py/lib/python3.9/site-packages (from pandas>=1.0.5->category-encoders) (2022.5)\nRequirement already satisfied: six in /shared-libs/python3.9/py-core/lib/python3.9/site-packages (from patsy>=0.5.1->category-encoders) (1.16.0)\nRequirement already satisfied: threadpoolctl>=2.0.0 in /shared-libs/python3.9/py/lib/python3.9/site-packages (from scikit-learn>=0.20.0->category-encoders) (3.1.0)\nRequirement already satisfied: joblib>=1.0.0 in /shared-libs/python3.9/py/lib/python3.9/site-packages (from scikit-learn>=0.20.0->category-encoders) (1.2.0)\nRequirement already satisfied: packaging>=21.3 in /shared-libs/python3.9/py-core/lib/python3.9/site-packages (from statsmodels>=0.9.0->category-encoders) (21.3)\nRequirement already satisfied: pyparsing!=3.0.5,>=2.0.2 in /shared-libs/python3.9/py-core/lib/python3.9/site-packages (from packaging>=21.3->statsmodels>=0.9.0->category-encoders) (3.0.9)\n\u001b[33mWARNING: Running pip as the 'root' user can result in broken permissions and conflicting behaviour with the system package manager. It is recommended to use a virtual environment instead: https://pip.pypa.io/warnings/venv\u001b[0m\u001b[33m\n\u001b[0m\n\u001b[1m[\u001b[0m\u001b[34;49mnotice\u001b[0m\u001b[1;39;49m]\u001b[0m\u001b[39;49m A new release of pip is available: \u001b[0m\u001b[31;49m23.0.1\u001b[0m\u001b[39;49m -> \u001b[0m\u001b[32;49m23.2.1\u001b[0m\n\u001b[1m[\u001b[0m\u001b[34;49mnotice\u001b[0m\u001b[1;39;49m]\u001b[0m\u001b[39;49m To update, run: \u001b[0m\u001b[32;49mpython -m pip install --upgrade pip\u001b[0m\nNote: you may need to restart the kernel to use updated packages.\n",
          "output_type": "stream"
        }
      ],
      "execution_count": 2,
      "block_group": "095e82913d5e49c0bc8ad46807468481"
    },
    {
      "cell_type": "code",
      "source": "!pip install xgboost==2.0.0",
      "metadata": {
        "source_hash": "59bf4137",
        "execution_start": 1696585225131,
        "execution_millis": 8416,
        "deepnote_to_be_reexecuted": false,
        "cell_id": "f784b0dbe9b64fbe80c564e71240e943",
        "deepnote_cell_type": "code"
      },
      "outputs": [
        {
          "name": "stdout",
          "text": "Collecting xgboost==2.0.0\n  Downloading xgboost-2.0.0-py3-none-manylinux2014_x86_64.whl (297.1 MB)\n\u001b[2K     \u001b[90m━━━━━━━━━━━━━━━━━━━━━━━━━━━━━━━━━━━━━━━\u001b[0m \u001b[32m297.1/297.1 MB\u001b[0m \u001b[31m6.1 MB/s\u001b[0m eta \u001b[36m0:00:00\u001b[0m\n\u001b[?25hRequirement already satisfied: scipy in /shared-libs/python3.9/py/lib/python3.9/site-packages (from xgboost==2.0.0) (1.9.3)\nRequirement already satisfied: numpy in /shared-libs/python3.9/py/lib/python3.9/site-packages (from xgboost==2.0.0) (1.23.4)\nInstalling collected packages: xgboost\nSuccessfully installed xgboost-2.0.0\n\n\u001b[1m[\u001b[0m\u001b[34;49mnotice\u001b[0m\u001b[1;39;49m]\u001b[0m\u001b[39;49m A new release of pip is available: \u001b[0m\u001b[31;49m23.0.1\u001b[0m\u001b[39;49m -> \u001b[0m\u001b[32;49m23.2.1\u001b[0m\n\u001b[1m[\u001b[0m\u001b[34;49mnotice\u001b[0m\u001b[1;39;49m]\u001b[0m\u001b[39;49m To update, run: \u001b[0m\u001b[32;49mpip install --upgrade pip\u001b[0m\n",
          "output_type": "stream"
        }
      ],
      "execution_count": 24,
      "block_group": "23379c8ffa884b329d07c8d266168fcb"
    },
    {
      "cell_type": "code",
      "source": "import numpy as np\nimport pandas as pd\nfrom sklearn.model_selection import train_test_split\nfrom sklearn.preprocessing import StandardScaler,LabelEncoder\nfrom sklearn.linear_model import LogisticRegression,Ridge, Lasso\nfrom sklearn.metrics import accuracy_score, confusion_matrix, classification_report,precision_recall_curve\nfrom sklearn.decomposition import PCA\nfrom sklearn.discriminant_analysis import LinearDiscriminantAnalysis\nimport xgboost as xgb\n\nfrom sklearn.feature_selection import chi2, SelectKBest,f_classif, f_regression, SelectKBest\nfrom sklearn.ensemble import RandomForestClassifier\n\nimport matplotlib.pyplot as plt\n%matplotlib inline\n\nimport seaborn as sns\n\n\nimport warnings\nwarnings.filterwarnings('ignore')",
      "metadata": {
        "source_hash": "4640fe04",
        "execution_start": 1696585236204,
        "execution_millis": 144,
        "deepnote_to_be_reexecuted": false,
        "cell_id": "1042d4540f9b4fb8bd0c7ea03f79cc3f",
        "deepnote_cell_type": "code"
      },
      "outputs": [],
      "execution_count": 25,
      "block_group": "7c8d095da7de4cd5ac09cfcddb41e40b"
    },
    {
      "cell_type": "markdown",
      "source": "En primer lugar vemos la información aquí debajo, sin presentar valores duplicados, el tipo de dato que tenemos, la composición del df",
      "metadata": {
        "formattedRanges": [],
        "cell_id": "04867ab2f4354fada8c074b71f3f289b",
        "deepnote_cell_type": "text-cell-p"
      },
      "block_group": "2704c632e3d24286af695b617897745e"
    },
    {
      "cell_type": "markdown",
      "source": "Tenemos 5 variables categóricas de las cuales: 1 a priori es no importante, el estado puede ser relevante, otras tres se traducirán en 0,1 porque son si/no o boolenos a corregir.",
      "metadata": {
        "formattedRanges": [],
        "cell_id": "440dff79f9ff4a19a24be3b715c00e39",
        "deepnote_cell_type": "text-cell-p"
      },
      "block_group": "fbe32635c4ae478d9945d823ffa338c9"
    },
    {
      "cell_type": "code",
      "source": "df = pd.read_csv('/work/churn_dataset/churn_all' )\n\nprint(df.info(), df.duplicated().sum())\n\ndf",
      "metadata": {
        "source_hash": "a1a6a27e",
        "execution_start": 1696584737629,
        "execution_millis": 369,
        "deepnote_table_state": {
          "sortBy": [],
          "filters": [],
          "pageSize": 25,
          "pageIndex": 0
        },
        "deepnote_table_loading": false,
        "deepnote_to_be_reexecuted": false,
        "cell_id": "03037a950776478692b7ccbfd1103d17",
        "deepnote_cell_type": "code"
      },
      "outputs": [
        {
          "name": "stdout",
          "text": "<class 'pandas.core.frame.DataFrame'>\nRangeIndex: 5000 entries, 0 to 4999\nData columns (total 21 columns):\n #   Column                         Non-Null Count  Dtype  \n---  ------                         --------------  -----  \n 0   state                          5000 non-null   object \n 1   account_length                 5000 non-null   int64  \n 2   area_code                      5000 non-null   int64  \n 3   phone_number                   5000 non-null   object \n 4   international_plan             5000 non-null   object \n 5   voice_mail_plan                5000 non-null   object \n 6   number_vmail_messages          5000 non-null   int64  \n 7   total_day_minutes              5000 non-null   float64\n 8   total_day_calls                5000 non-null   int64  \n 9   total_day_charge               5000 non-null   float64\n 10  total_eve_minutes              5000 non-null   float64\n 11  total_eve_calls                5000 non-null   int64  \n 12  total_eve_charge               5000 non-null   float64\n 13  total_night_minutes            5000 non-null   float64\n 14  total_night_calls              5000 non-null   int64  \n 15  total_night_charge             5000 non-null   float64\n 16  total_intl_minutes             5000 non-null   float64\n 17  total_intl_calls               5000 non-null   int64  \n 18  total_intl_charge              5000 non-null   float64\n 19  number_customer_service_calls  5000 non-null   int64  \n 20  Churn                          5000 non-null   object \ndtypes: float64(8), int64(8), object(5)\nmemory usage: 820.4+ KB\nNone 0\n",
          "output_type": "stream"
        },
        {
          "output_type": "execute_result",
          "execution_count": 5,
          "data": {
            "application/vnd.deepnote.dataframe.v3+json": {
              "column_count": 21,
              "row_count": 5000,
              "columns": [
                {
                  "name": "state",
                  "dtype": "object",
                  "stats": {
                    "unique_count": 51,
                    "nan_count": 0,
                    "categories": [
                      {
                        "name": "WV",
                        "count": 158
                      },
                      {
                        "name": "MN",
                        "count": 125
                      },
                      {
                        "name": "49 others",
                        "count": 4717
                      }
                    ]
                  }
                },
                {
                  "name": "account_length",
                  "dtype": "int64",
                  "stats": {
                    "unique_count": 218,
                    "nan_count": 0,
                    "min": "1",
                    "max": "243",
                    "histogram": [
                      {
                        "bin_start": 1,
                        "bin_end": 25.2,
                        "count": 152
                      },
                      {
                        "bin_start": 25.2,
                        "bin_end": 49.4,
                        "count": 358
                      },
                      {
                        "bin_start": 49.4,
                        "bin_end": 73.6,
                        "count": 755
                      },
                      {
                        "bin_start": 73.6,
                        "bin_end": 97.8,
                        "count": 1118
                      },
                      {
                        "bin_start": 97.8,
                        "bin_end": 122,
                        "count": 1147
                      },
                      {
                        "bin_start": 122,
                        "bin_end": 146.2,
                        "count": 855
                      },
                      {
                        "bin_start": 146.2,
                        "bin_end": 170.4,
                        "count": 406
                      },
                      {
                        "bin_start": 170.4,
                        "bin_end": 194.6,
                        "count": 162
                      },
                      {
                        "bin_start": 194.6,
                        "bin_end": 218.79999999999998,
                        "count": 35
                      },
                      {
                        "bin_start": 218.79999999999998,
                        "bin_end": 243,
                        "count": 12
                      }
                    ]
                  }
                },
                {
                  "name": "area_code",
                  "dtype": "int64",
                  "stats": {
                    "unique_count": 3,
                    "nan_count": 0,
                    "min": "408",
                    "max": "510",
                    "histogram": [
                      {
                        "bin_start": 408,
                        "bin_end": 418.2,
                        "count": 3754
                      },
                      {
                        "bin_start": 418.2,
                        "bin_end": 428.4,
                        "count": 0
                      },
                      {
                        "bin_start": 428.4,
                        "bin_end": 438.6,
                        "count": 0
                      },
                      {
                        "bin_start": 438.6,
                        "bin_end": 448.8,
                        "count": 0
                      },
                      {
                        "bin_start": 448.8,
                        "bin_end": 459,
                        "count": 0
                      },
                      {
                        "bin_start": 459,
                        "bin_end": 469.2,
                        "count": 0
                      },
                      {
                        "bin_start": 469.2,
                        "bin_end": 479.4,
                        "count": 0
                      },
                      {
                        "bin_start": 479.4,
                        "bin_end": 489.6,
                        "count": 0
                      },
                      {
                        "bin_start": 489.6,
                        "bin_end": 499.8,
                        "count": 0
                      },
                      {
                        "bin_start": 499.8,
                        "bin_end": 510,
                        "count": 1246
                      }
                    ]
                  }
                },
                {
                  "name": "phone_number",
                  "dtype": "object",
                  "stats": {
                    "unique_count": 5000,
                    "nan_count": 0,
                    "categories": [
                      {
                        "name": " 382-4657",
                        "count": 1
                      },
                      {
                        "name": " 371-7191",
                        "count": 1
                      },
                      {
                        "name": "4998 others",
                        "count": 4998
                      }
                    ]
                  }
                },
                {
                  "name": "international_plan",
                  "dtype": "object",
                  "stats": {
                    "unique_count": 2,
                    "nan_count": 0,
                    "categories": [
                      {
                        "name": " no",
                        "count": 4527
                      },
                      {
                        "name": " yes",
                        "count": 473
                      }
                    ]
                  }
                },
                {
                  "name": "voice_mail_plan",
                  "dtype": "object",
                  "stats": {
                    "unique_count": 2,
                    "nan_count": 0,
                    "categories": [
                      {
                        "name": " no",
                        "count": 3677
                      },
                      {
                        "name": " yes",
                        "count": 1323
                      }
                    ]
                  }
                },
                {
                  "name": "number_vmail_messages",
                  "dtype": "int64",
                  "stats": {
                    "unique_count": 48,
                    "nan_count": 0,
                    "min": "0",
                    "max": "52",
                    "histogram": [
                      {
                        "bin_start": 0,
                        "bin_end": 5.2,
                        "count": 3679
                      },
                      {
                        "bin_start": 5.2,
                        "bin_end": 10.4,
                        "count": 10
                      },
                      {
                        "bin_start": 10.4,
                        "bin_end": 15.600000000000001,
                        "count": 39
                      },
                      {
                        "bin_start": 15.600000000000001,
                        "bin_end": 20.8,
                        "count": 115
                      },
                      {
                        "bin_start": 20.8,
                        "bin_end": 26,
                        "count": 255
                      },
                      {
                        "bin_start": 26,
                        "bin_end": 31.200000000000003,
                        "count": 397
                      },
                      {
                        "bin_start": 31.200000000000003,
                        "bin_end": 36.4,
                        "count": 250
                      },
                      {
                        "bin_start": 36.4,
                        "bin_end": 41.6,
                        "count": 176
                      },
                      {
                        "bin_start": 41.6,
                        "bin_end": 46.800000000000004,
                        "count": 63
                      },
                      {
                        "bin_start": 46.800000000000004,
                        "bin_end": 52,
                        "count": 16
                      }
                    ]
                  }
                },
                {
                  "name": "total_day_minutes",
                  "dtype": "float64",
                  "stats": {
                    "unique_count": 1961,
                    "nan_count": 0,
                    "min": "0.0",
                    "max": "351.5",
                    "histogram": [
                      {
                        "bin_start": 0,
                        "bin_end": 35.15,
                        "count": 18
                      },
                      {
                        "bin_start": 35.15,
                        "bin_end": 70.3,
                        "count": 92
                      },
                      {
                        "bin_start": 70.3,
                        "bin_end": 105.44999999999999,
                        "count": 302
                      },
                      {
                        "bin_start": 105.44999999999999,
                        "bin_end": 140.6,
                        "count": 729
                      },
                      {
                        "bin_start": 140.6,
                        "bin_end": 175.75,
                        "count": 1191
                      },
                      {
                        "bin_start": 175.75,
                        "bin_end": 210.89999999999998,
                        "count": 1234
                      },
                      {
                        "bin_start": 210.89999999999998,
                        "bin_end": 246.04999999999998,
                        "count": 894
                      },
                      {
                        "bin_start": 246.04999999999998,
                        "bin_end": 281.2,
                        "count": 385
                      },
                      {
                        "bin_start": 281.2,
                        "bin_end": 316.34999999999997,
                        "count": 126
                      },
                      {
                        "bin_start": 316.34999999999997,
                        "bin_end": 351.5,
                        "count": 29
                      }
                    ]
                  }
                },
                {
                  "name": "total_day_calls",
                  "dtype": "int64",
                  "stats": {
                    "unique_count": 124,
                    "nan_count": 0,
                    "min": "0",
                    "max": "9999",
                    "histogram": [
                      {
                        "bin_start": 0,
                        "bin_end": 999.9,
                        "count": 4990
                      },
                      {
                        "bin_start": 999.9,
                        "bin_end": 1999.8,
                        "count": 0
                      },
                      {
                        "bin_start": 1999.8,
                        "bin_end": 2999.7,
                        "count": 0
                      },
                      {
                        "bin_start": 2999.7,
                        "bin_end": 3999.6,
                        "count": 0
                      },
                      {
                        "bin_start": 3999.6,
                        "bin_end": 4999.5,
                        "count": 0
                      },
                      {
                        "bin_start": 4999.5,
                        "bin_end": 5999.4,
                        "count": 0
                      },
                      {
                        "bin_start": 5999.4,
                        "bin_end": 6999.3,
                        "count": 0
                      },
                      {
                        "bin_start": 6999.3,
                        "bin_end": 7999.2,
                        "count": 0
                      },
                      {
                        "bin_start": 7999.2,
                        "bin_end": 8999.1,
                        "count": 0
                      },
                      {
                        "bin_start": 8999.1,
                        "bin_end": 9999,
                        "count": 10
                      }
                    ]
                  }
                },
                {
                  "name": "total_day_charge",
                  "dtype": "float64",
                  "stats": {
                    "unique_count": 1961,
                    "nan_count": 0,
                    "min": "0.0",
                    "max": "59.76",
                    "histogram": [
                      {
                        "bin_start": 0,
                        "bin_end": 5.976,
                        "count": 18
                      },
                      {
                        "bin_start": 5.976,
                        "bin_end": 11.952,
                        "count": 92
                      },
                      {
                        "bin_start": 11.952,
                        "bin_end": 17.928,
                        "count": 302
                      },
                      {
                        "bin_start": 17.928,
                        "bin_end": 23.904,
                        "count": 732
                      },
                      {
                        "bin_start": 23.904,
                        "bin_end": 29.88,
                        "count": 1188
                      },
                      {
                        "bin_start": 29.88,
                        "bin_end": 35.856,
                        "count": 1236
                      },
                      {
                        "bin_start": 35.856,
                        "bin_end": 41.832,
                        "count": 892
                      },
                      {
                        "bin_start": 41.832,
                        "bin_end": 47.808,
                        "count": 387
                      },
                      {
                        "bin_start": 47.808,
                        "bin_end": 53.784,
                        "count": 124
                      },
                      {
                        "bin_start": 53.784,
                        "bin_end": 59.76,
                        "count": 29
                      }
                    ]
                  }
                },
                {
                  "name": "total_eve_minutes",
                  "dtype": "float64",
                  "stats": {
                    "unique_count": 1879,
                    "nan_count": 0,
                    "min": "0.0",
                    "max": "363.7",
                    "histogram": [
                      {
                        "bin_start": 0,
                        "bin_end": 36.37,
                        "count": 3
                      },
                      {
                        "bin_start": 36.37,
                        "bin_end": 72.74,
                        "count": 27
                      },
                      {
                        "bin_start": 72.74,
                        "bin_end": 109.10999999999999,
                        "count": 135
                      },
                      {
                        "bin_start": 109.10999999999999,
                        "bin_end": 145.48,
                        "count": 516
                      },
                      {
                        "bin_start": 145.48,
                        "bin_end": 181.85,
                        "count": 1108
                      },
                      {
                        "bin_start": 181.85,
                        "bin_end": 218.21999999999997,
                        "count": 1404
                      },
                      {
                        "bin_start": 218.21999999999997,
                        "bin_end": 254.58999999999997,
                        "count": 1091
                      },
                      {
                        "bin_start": 254.58999999999997,
                        "bin_end": 290.96,
                        "count": 536
                      },
                      {
                        "bin_start": 290.96,
                        "bin_end": 327.33,
                        "count": 148
                      },
                      {
                        "bin_start": 327.33,
                        "bin_end": 363.7,
                        "count": 32
                      }
                    ]
                  }
                },
                {
                  "name": "total_eve_calls",
                  "dtype": "int64",
                  "stats": {
                    "unique_count": 126,
                    "nan_count": 0,
                    "min": "0",
                    "max": "170",
                    "histogram": [
                      {
                        "bin_start": 0,
                        "bin_end": 17,
                        "count": 2
                      },
                      {
                        "bin_start": 17,
                        "bin_end": 34,
                        "count": 0
                      },
                      {
                        "bin_start": 34,
                        "bin_end": 51,
                        "count": 27
                      },
                      {
                        "bin_start": 51,
                        "bin_end": 68,
                        "count": 225
                      },
                      {
                        "bin_start": 68,
                        "bin_end": 85,
                        "count": 803
                      },
                      {
                        "bin_start": 85,
                        "bin_end": 102,
                        "count": 1554
                      },
                      {
                        "bin_start": 102,
                        "bin_end": 119,
                        "count": 1513
                      },
                      {
                        "bin_start": 119,
                        "bin_end": 136,
                        "count": 676
                      },
                      {
                        "bin_start": 136,
                        "bin_end": 153,
                        "count": 183
                      },
                      {
                        "bin_start": 153,
                        "bin_end": 170,
                        "count": 17
                      }
                    ]
                  }
                },
                {
                  "name": "total_eve_charge",
                  "dtype": "float64",
                  "stats": {
                    "unique_count": 1659,
                    "nan_count": 0,
                    "min": "0.0",
                    "max": "30.91",
                    "histogram": [
                      {
                        "bin_start": 0,
                        "bin_end": 3.091,
                        "count": 3
                      },
                      {
                        "bin_start": 3.091,
                        "bin_end": 6.182,
                        "count": 27
                      },
                      {
                        "bin_start": 6.182,
                        "bin_end": 9.273,
                        "count": 135
                      },
                      {
                        "bin_start": 9.273,
                        "bin_end": 12.364,
                        "count": 516
                      },
                      {
                        "bin_start": 12.364,
                        "bin_end": 15.455000000000002,
                        "count": 1108
                      },
                      {
                        "bin_start": 15.455000000000002,
                        "bin_end": 18.546,
                        "count": 1402
                      },
                      {
                        "bin_start": 18.546,
                        "bin_end": 21.637,
                        "count": 1093
                      },
                      {
                        "bin_start": 21.637,
                        "bin_end": 24.728,
                        "count": 534
                      },
                      {
                        "bin_start": 24.728,
                        "bin_end": 27.819000000000003,
                        "count": 150
                      },
                      {
                        "bin_start": 27.819000000000003,
                        "bin_end": 30.91,
                        "count": 32
                      }
                    ]
                  }
                },
                {
                  "name": "total_night_minutes",
                  "dtype": "float64",
                  "stats": {
                    "unique_count": 1853,
                    "nan_count": 0,
                    "min": "0.0",
                    "max": "395.0",
                    "histogram": [
                      {
                        "bin_start": 0,
                        "bin_end": 39.5,
                        "count": 2
                      },
                      {
                        "bin_start": 39.5,
                        "bin_end": 79,
                        "count": 42
                      },
                      {
                        "bin_start": 79,
                        "bin_end": 118.5,
                        "count": 219
                      },
                      {
                        "bin_start": 118.5,
                        "bin_end": 158,
                        "count": 741
                      },
                      {
                        "bin_start": 158,
                        "bin_end": 197.5,
                        "count": 1409
                      },
                      {
                        "bin_start": 197.5,
                        "bin_end": 237,
                        "count": 1404
                      },
                      {
                        "bin_start": 237,
                        "bin_end": 276.5,
                        "count": 851
                      },
                      {
                        "bin_start": 276.5,
                        "bin_end": 316,
                        "count": 275
                      },
                      {
                        "bin_start": 316,
                        "bin_end": 355.5,
                        "count": 49
                      },
                      {
                        "bin_start": 355.5,
                        "bin_end": 395,
                        "count": 8
                      }
                    ]
                  }
                },
                {
                  "name": "total_night_calls",
                  "dtype": "int64",
                  "stats": {
                    "unique_count": 131,
                    "nan_count": 0,
                    "min": "0",
                    "max": "175",
                    "histogram": [
                      {
                        "bin_start": 0,
                        "bin_end": 17.5,
                        "count": 2
                      },
                      {
                        "bin_start": 17.5,
                        "bin_end": 35,
                        "count": 1
                      },
                      {
                        "bin_start": 35,
                        "bin_end": 52.5,
                        "count": 34
                      },
                      {
                        "bin_start": 52.5,
                        "bin_end": 70,
                        "count": 290
                      },
                      {
                        "bin_start": 70,
                        "bin_end": 87.5,
                        "count": 998
                      },
                      {
                        "bin_start": 87.5,
                        "bin_end": 105,
                        "count": 1621
                      },
                      {
                        "bin_start": 105,
                        "bin_end": 122.5,
                        "count": 1421
                      },
                      {
                        "bin_start": 122.5,
                        "bin_end": 140,
                        "count": 515
                      },
                      {
                        "bin_start": 140,
                        "bin_end": 157.5,
                        "count": 106
                      },
                      {
                        "bin_start": 157.5,
                        "bin_end": 175,
                        "count": 12
                      }
                    ]
                  }
                },
                {
                  "name": "total_night_charge",
                  "dtype": "float64",
                  "stats": {
                    "unique_count": 1028,
                    "nan_count": 0,
                    "min": "0.0",
                    "max": "17.77",
                    "histogram": [
                      {
                        "bin_start": 0,
                        "bin_end": 1.777,
                        "count": 2
                      },
                      {
                        "bin_start": 1.777,
                        "bin_end": 3.554,
                        "count": 42
                      },
                      {
                        "bin_start": 3.554,
                        "bin_end": 5.3309999999999995,
                        "count": 220
                      },
                      {
                        "bin_start": 5.3309999999999995,
                        "bin_end": 7.108,
                        "count": 737
                      },
                      {
                        "bin_start": 7.108,
                        "bin_end": 8.885,
                        "count": 1412
                      },
                      {
                        "bin_start": 8.885,
                        "bin_end": 10.661999999999999,
                        "count": 1404
                      },
                      {
                        "bin_start": 10.661999999999999,
                        "bin_end": 12.439,
                        "count": 851
                      },
                      {
                        "bin_start": 12.439,
                        "bin_end": 14.216,
                        "count": 275
                      },
                      {
                        "bin_start": 14.216,
                        "bin_end": 15.992999999999999,
                        "count": 49
                      },
                      {
                        "bin_start": 15.992999999999999,
                        "bin_end": 17.77,
                        "count": 8
                      }
                    ]
                  }
                },
                {
                  "name": "total_intl_minutes",
                  "dtype": "float64",
                  "stats": {
                    "unique_count": 170,
                    "nan_count": 0,
                    "min": "0.0",
                    "max": "20.0",
                    "histogram": [
                      {
                        "bin_start": 0,
                        "bin_end": 2,
                        "count": 28
                      },
                      {
                        "bin_start": 2,
                        "bin_end": 4,
                        "count": 40
                      },
                      {
                        "bin_start": 4,
                        "bin_end": 6,
                        "count": 236
                      },
                      {
                        "bin_start": 6,
                        "bin_end": 8,
                        "count": 663
                      },
                      {
                        "bin_start": 8,
                        "bin_end": 10,
                        "count": 1235
                      },
                      {
                        "bin_start": 10,
                        "bin_end": 12,
                        "count": 1488
                      },
                      {
                        "bin_start": 12,
                        "bin_end": 14,
                        "count": 889
                      },
                      {
                        "bin_start": 14,
                        "bin_end": 16,
                        "count": 328
                      },
                      {
                        "bin_start": 16,
                        "bin_end": 18,
                        "count": 77
                      },
                      {
                        "bin_start": 18,
                        "bin_end": 20,
                        "count": 16
                      }
                    ]
                  }
                },
                {
                  "name": "total_intl_calls",
                  "dtype": "int64",
                  "stats": {
                    "unique_count": 21,
                    "nan_count": 0,
                    "min": "0",
                    "max": "20",
                    "histogram": [
                      {
                        "bin_start": 0,
                        "bin_end": 2,
                        "count": 289
                      },
                      {
                        "bin_start": 2,
                        "bin_end": 4,
                        "count": 1735
                      },
                      {
                        "bin_start": 4,
                        "bin_end": 6,
                        "count": 1659
                      },
                      {
                        "bin_start": 6,
                        "bin_end": 8,
                        "count": 803
                      },
                      {
                        "bin_start": 8,
                        "bin_end": 10,
                        "count": 320
                      },
                      {
                        "bin_start": 10,
                        "bin_end": 12,
                        "count": 121
                      },
                      {
                        "bin_start": 12,
                        "bin_end": 14,
                        "count": 42
                      },
                      {
                        "bin_start": 14,
                        "bin_end": 16,
                        "count": 15
                      },
                      {
                        "bin_start": 16,
                        "bin_end": 18,
                        "count": 9
                      },
                      {
                        "bin_start": 18,
                        "bin_end": 20,
                        "count": 7
                      }
                    ]
                  }
                },
                {
                  "name": "total_intl_charge",
                  "dtype": "float64",
                  "stats": {
                    "unique_count": 170,
                    "nan_count": 0,
                    "min": "0.0",
                    "max": "5.4",
                    "histogram": [
                      {
                        "bin_start": 0,
                        "bin_end": 0.54,
                        "count": 28
                      },
                      {
                        "bin_start": 0.54,
                        "bin_end": 1.08,
                        "count": 40
                      },
                      {
                        "bin_start": 1.08,
                        "bin_end": 1.62,
                        "count": 236
                      },
                      {
                        "bin_start": 1.62,
                        "bin_end": 2.16,
                        "count": 663
                      },
                      {
                        "bin_start": 2.16,
                        "bin_end": 2.7,
                        "count": 1235
                      },
                      {
                        "bin_start": 2.7,
                        "bin_end": 3.24,
                        "count": 1488
                      },
                      {
                        "bin_start": 3.24,
                        "bin_end": 3.7800000000000002,
                        "count": 922
                      },
                      {
                        "bin_start": 3.7800000000000002,
                        "bin_end": 4.32,
                        "count": 295
                      },
                      {
                        "bin_start": 4.32,
                        "bin_end": 4.86,
                        "count": 77
                      },
                      {
                        "bin_start": 4.86,
                        "bin_end": 5.4,
                        "count": 16
                      }
                    ]
                  }
                },
                {
                  "name": "number_customer_service_calls",
                  "dtype": "int64",
                  "stats": {
                    "unique_count": 10,
                    "nan_count": 0,
                    "min": "0",
                    "max": "9",
                    "histogram": [
                      {
                        "bin_start": 0,
                        "bin_end": 0.9,
                        "count": 1023
                      },
                      {
                        "bin_start": 0.9,
                        "bin_end": 1.8,
                        "count": 1786
                      },
                      {
                        "bin_start": 1.8,
                        "bin_end": 2.7,
                        "count": 1127
                      },
                      {
                        "bin_start": 2.7,
                        "bin_end": 3.6,
                        "count": 665
                      },
                      {
                        "bin_start": 3.6,
                        "bin_end": 4.5,
                        "count": 252
                      },
                      {
                        "bin_start": 4.5,
                        "bin_end": 5.4,
                        "count": 96
                      },
                      {
                        "bin_start": 5.4,
                        "bin_end": 6.3,
                        "count": 34
                      },
                      {
                        "bin_start": 6.3,
                        "bin_end": 7.2,
                        "count": 13
                      },
                      {
                        "bin_start": 7.2,
                        "bin_end": 8.1,
                        "count": 2
                      },
                      {
                        "bin_start": 8.1,
                        "bin_end": 9,
                        "count": 2
                      }
                    ]
                  }
                },
                {
                  "name": "Churn",
                  "dtype": "object"
                },
                {
                  "name": "_deepnote_index_column",
                  "dtype": "int64"
                }
              ],
              "rows": [
                {
                  "state": "KS",
                  "account_length": 128,
                  "area_code": 415,
                  "phone_number": " 382-4657",
                  "international_plan": " no",
                  "voice_mail_plan": " yes",
                  "number_vmail_messages": 25,
                  "total_day_minutes": 265.1,
                  "total_day_calls": 110,
                  "total_day_charge": 45.07,
                  "total_eve_minutes": 197.4,
                  "total_eve_calls": 99,
                  "total_eve_charge": 16.78,
                  "total_night_minutes": 244.7,
                  "total_night_calls": 91,
                  "total_night_charge": 11.01,
                  "total_intl_minutes": 10,
                  "total_intl_calls": 3,
                  "total_intl_charge": 2.7,
                  "number_customer_service_calls": 1,
                  "Churn": " False.",
                  "_deepnote_index_column": 0
                },
                {
                  "state": "OH",
                  "account_length": 107,
                  "area_code": 415,
                  "phone_number": " 371-7191",
                  "international_plan": " no",
                  "voice_mail_plan": " yes",
                  "number_vmail_messages": 26,
                  "total_day_minutes": 161.6,
                  "total_day_calls": 123,
                  "total_day_charge": 27.47,
                  "total_eve_minutes": 195.5,
                  "total_eve_calls": 103,
                  "total_eve_charge": 16.62,
                  "total_night_minutes": 254.4,
                  "total_night_calls": 103,
                  "total_night_charge": 11.45,
                  "total_intl_minutes": 13.7,
                  "total_intl_calls": 3,
                  "total_intl_charge": 3.7,
                  "number_customer_service_calls": 1,
                  "Churn": " False.",
                  "_deepnote_index_column": 1
                },
                {
                  "state": "NJ",
                  "account_length": 137,
                  "area_code": 415,
                  "phone_number": " 358-1921",
                  "international_plan": " no",
                  "voice_mail_plan": " no",
                  "number_vmail_messages": 0,
                  "total_day_minutes": 243.4,
                  "total_day_calls": 114,
                  "total_day_charge": 41.38,
                  "total_eve_minutes": 121.2,
                  "total_eve_calls": 110,
                  "total_eve_charge": 10.3,
                  "total_night_minutes": 162.6,
                  "total_night_calls": 104,
                  "total_night_charge": 7.32,
                  "total_intl_minutes": 12.2,
                  "total_intl_calls": 5,
                  "total_intl_charge": 3.29,
                  "number_customer_service_calls": 0,
                  "Churn": " False.",
                  "_deepnote_index_column": 2
                },
                {
                  "state": "OH",
                  "account_length": 84,
                  "area_code": 408,
                  "phone_number": " 375-9999",
                  "international_plan": " yes",
                  "voice_mail_plan": " no",
                  "number_vmail_messages": 0,
                  "total_day_minutes": 299.4,
                  "total_day_calls": 71,
                  "total_day_charge": 50.9,
                  "total_eve_minutes": 61.9,
                  "total_eve_calls": 88,
                  "total_eve_charge": 5.26,
                  "total_night_minutes": 196.9,
                  "total_night_calls": 89,
                  "total_night_charge": 8.86,
                  "total_intl_minutes": 6.6,
                  "total_intl_calls": 7,
                  "total_intl_charge": 1.78,
                  "number_customer_service_calls": 2,
                  "Churn": " False.",
                  "_deepnote_index_column": 3
                },
                {
                  "state": "OK",
                  "account_length": 75,
                  "area_code": 415,
                  "phone_number": " 330-6626",
                  "international_plan": " yes",
                  "voice_mail_plan": " no",
                  "number_vmail_messages": 0,
                  "total_day_minutes": 166.7,
                  "total_day_calls": 113,
                  "total_day_charge": 28.34,
                  "total_eve_minutes": 148.3,
                  "total_eve_calls": 122,
                  "total_eve_charge": 12.61,
                  "total_night_minutes": 186.9,
                  "total_night_calls": 121,
                  "total_night_charge": 8.41,
                  "total_intl_minutes": 10.1,
                  "total_intl_calls": 3,
                  "total_intl_charge": 2.73,
                  "number_customer_service_calls": 3,
                  "Churn": " False.",
                  "_deepnote_index_column": 4
                },
                {
                  "state": "AL",
                  "account_length": 118,
                  "area_code": 510,
                  "phone_number": " 391-8027",
                  "international_plan": " yes",
                  "voice_mail_plan": " no",
                  "number_vmail_messages": 0,
                  "total_day_minutes": 223.4,
                  "total_day_calls": 98,
                  "total_day_charge": 37.98,
                  "total_eve_minutes": 220.6,
                  "total_eve_calls": 101,
                  "total_eve_charge": 18.75,
                  "total_night_minutes": 203.9,
                  "total_night_calls": 118,
                  "total_night_charge": 9.18,
                  "total_intl_minutes": 6.3,
                  "total_intl_calls": 6,
                  "total_intl_charge": 1.7,
                  "number_customer_service_calls": 0,
                  "Churn": " False.",
                  "_deepnote_index_column": 5
                },
                {
                  "state": "MA",
                  "account_length": 121,
                  "area_code": 510,
                  "phone_number": " 355-9993",
                  "international_plan": " no",
                  "voice_mail_plan": " yes",
                  "number_vmail_messages": 24,
                  "total_day_minutes": 218.2,
                  "total_day_calls": 88,
                  "total_day_charge": 37.09,
                  "total_eve_minutes": 348.5,
                  "total_eve_calls": 108,
                  "total_eve_charge": 29.62,
                  "total_night_minutes": 212.6,
                  "total_night_calls": 118,
                  "total_night_charge": 9.57,
                  "total_intl_minutes": 7.5,
                  "total_intl_calls": 7,
                  "total_intl_charge": 2.03,
                  "number_customer_service_calls": 3,
                  "Churn": " False.",
                  "_deepnote_index_column": 6
                },
                {
                  "state": "MO",
                  "account_length": 147,
                  "area_code": 415,
                  "phone_number": " 329-9001",
                  "international_plan": " yes",
                  "voice_mail_plan": " no",
                  "number_vmail_messages": 0,
                  "total_day_minutes": 157,
                  "total_day_calls": 79,
                  "total_day_charge": 26.69,
                  "total_eve_minutes": 103.1,
                  "total_eve_calls": 94,
                  "total_eve_charge": 8.76,
                  "total_night_minutes": 211.8,
                  "total_night_calls": 96,
                  "total_night_charge": 9.53,
                  "total_intl_minutes": 7.1,
                  "total_intl_calls": 6,
                  "total_intl_charge": 1.92,
                  "number_customer_service_calls": 0,
                  "Churn": " False.",
                  "_deepnote_index_column": 7
                },
                {
                  "state": "LA",
                  "account_length": 117,
                  "area_code": 408,
                  "phone_number": " 335-4719",
                  "international_plan": " no",
                  "voice_mail_plan": " no",
                  "number_vmail_messages": 0,
                  "total_day_minutes": 184.5,
                  "total_day_calls": 97,
                  "total_day_charge": 31.37,
                  "total_eve_minutes": 351.6,
                  "total_eve_calls": 80,
                  "total_eve_charge": 29.89,
                  "total_night_minutes": 215.8,
                  "total_night_calls": 90,
                  "total_night_charge": 9.71,
                  "total_intl_minutes": 8.7,
                  "total_intl_calls": 4,
                  "total_intl_charge": 2.35,
                  "number_customer_service_calls": 1,
                  "Churn": " False.",
                  "_deepnote_index_column": 8
                },
                {
                  "state": "WV",
                  "account_length": 141,
                  "area_code": 415,
                  "phone_number": " 330-8173",
                  "international_plan": " yes",
                  "voice_mail_plan": " yes",
                  "number_vmail_messages": 37,
                  "total_day_minutes": 258.6,
                  "total_day_calls": 84,
                  "total_day_charge": 43.96,
                  "total_eve_minutes": 222,
                  "total_eve_calls": 111,
                  "total_eve_charge": 18.87,
                  "total_night_minutes": 326.4,
                  "total_night_calls": 97,
                  "total_night_charge": 14.69,
                  "total_intl_minutes": 11.2,
                  "total_intl_calls": 5,
                  "total_intl_charge": 3.02,
                  "number_customer_service_calls": 0,
                  "Churn": " False.",
                  "_deepnote_index_column": 9
                },
                {
                  "state": "IN",
                  "account_length": 65,
                  "area_code": 415,
                  "phone_number": " 329-6603",
                  "international_plan": " no",
                  "voice_mail_plan": " no",
                  "number_vmail_messages": 0,
                  "total_day_minutes": 129.1,
                  "total_day_calls": 137,
                  "total_day_charge": 21.95,
                  "total_eve_minutes": 228.5,
                  "total_eve_calls": 83,
                  "total_eve_charge": 19.42,
                  "total_night_minutes": 208.8,
                  "total_night_calls": 111,
                  "total_night_charge": 9.4,
                  "total_intl_minutes": 12.7,
                  "total_intl_calls": 6,
                  "total_intl_charge": 3.43,
                  "number_customer_service_calls": 4,
                  "Churn": " True.",
                  "_deepnote_index_column": 10
                },
                {
                  "state": "RI",
                  "account_length": 74,
                  "area_code": 415,
                  "phone_number": " 344-9403",
                  "international_plan": " no",
                  "voice_mail_plan": " no",
                  "number_vmail_messages": 0,
                  "total_day_minutes": 187.7,
                  "total_day_calls": 127,
                  "total_day_charge": 31.91,
                  "total_eve_minutes": 163.4,
                  "total_eve_calls": 148,
                  "total_eve_charge": 13.89,
                  "total_night_minutes": 196,
                  "total_night_calls": 94,
                  "total_night_charge": 8.82,
                  "total_intl_minutes": 9.1,
                  "total_intl_calls": 5,
                  "total_intl_charge": 2.46,
                  "number_customer_service_calls": 0,
                  "Churn": " False.",
                  "_deepnote_index_column": 11
                },
                {
                  "state": "IA",
                  "account_length": 168,
                  "area_code": 408,
                  "phone_number": " 363-1107",
                  "international_plan": " no",
                  "voice_mail_plan": " no",
                  "number_vmail_messages": 0,
                  "total_day_minutes": 128.8,
                  "total_day_calls": 96,
                  "total_day_charge": 21.9,
                  "total_eve_minutes": 104.9,
                  "total_eve_calls": 71,
                  "total_eve_charge": 8.92,
                  "total_night_minutes": 141.1,
                  "total_night_calls": 128,
                  "total_night_charge": 6.35,
                  "total_intl_minutes": 11.2,
                  "total_intl_calls": 2,
                  "total_intl_charge": 3.02,
                  "number_customer_service_calls": 1,
                  "Churn": " False.",
                  "_deepnote_index_column": 12
                },
                {
                  "state": "MT",
                  "account_length": 95,
                  "area_code": 510,
                  "phone_number": " 394-8006",
                  "international_plan": " no",
                  "voice_mail_plan": " no",
                  "number_vmail_messages": 0,
                  "total_day_minutes": 156.6,
                  "total_day_calls": 88,
                  "total_day_charge": 26.62,
                  "total_eve_minutes": 247.6,
                  "total_eve_calls": 75,
                  "total_eve_charge": 21.05,
                  "total_night_minutes": 192.3,
                  "total_night_calls": 115,
                  "total_night_charge": 8.65,
                  "total_intl_minutes": 12.3,
                  "total_intl_calls": 5,
                  "total_intl_charge": 3.32,
                  "number_customer_service_calls": 3,
                  "Churn": " False.",
                  "_deepnote_index_column": 13
                },
                {
                  "state": "IA",
                  "account_length": 62,
                  "area_code": 415,
                  "phone_number": " 366-9238",
                  "international_plan": " no",
                  "voice_mail_plan": " no",
                  "number_vmail_messages": 0,
                  "total_day_minutes": 120.7,
                  "total_day_calls": 70,
                  "total_day_charge": 20.52,
                  "total_eve_minutes": 307.2,
                  "total_eve_calls": 76,
                  "total_eve_charge": 26.11,
                  "total_night_minutes": 203,
                  "total_night_calls": 99,
                  "total_night_charge": 9.14,
                  "total_intl_minutes": 13.1,
                  "total_intl_calls": 6,
                  "total_intl_charge": 3.54,
                  "number_customer_service_calls": 4,
                  "Churn": " False.",
                  "_deepnote_index_column": 14
                },
                {
                  "state": "NY",
                  "account_length": 161,
                  "area_code": 415,
                  "phone_number": " 351-7269",
                  "international_plan": " no",
                  "voice_mail_plan": " no",
                  "number_vmail_messages": 0,
                  "total_day_minutes": 332.9,
                  "total_day_calls": 67,
                  "total_day_charge": 56.59,
                  "total_eve_minutes": 317.8,
                  "total_eve_calls": 97,
                  "total_eve_charge": 27.01,
                  "total_night_minutes": 160.6,
                  "total_night_calls": 128,
                  "total_night_charge": 7.23,
                  "total_intl_minutes": 5.4,
                  "total_intl_calls": 9,
                  "total_intl_charge": 1.46,
                  "number_customer_service_calls": 4,
                  "Churn": " True.",
                  "_deepnote_index_column": 15
                },
                {
                  "state": "ID",
                  "account_length": 85,
                  "area_code": 408,
                  "phone_number": " 350-8884",
                  "international_plan": " no",
                  "voice_mail_plan": " yes",
                  "number_vmail_messages": 27,
                  "total_day_minutes": 196.4,
                  "total_day_calls": 139,
                  "total_day_charge": 33.39,
                  "total_eve_minutes": 280.9,
                  "total_eve_calls": 90,
                  "total_eve_charge": 23.88,
                  "total_night_minutes": 89.3,
                  "total_night_calls": 75,
                  "total_night_charge": 4.02,
                  "total_intl_minutes": 13.8,
                  "total_intl_calls": 4,
                  "total_intl_charge": 3.73,
                  "number_customer_service_calls": 1,
                  "Churn": " False.",
                  "_deepnote_index_column": 16
                },
                {
                  "state": "VT",
                  "account_length": 93,
                  "area_code": 510,
                  "phone_number": " 386-2923",
                  "international_plan": " no",
                  "voice_mail_plan": " no",
                  "number_vmail_messages": 0,
                  "total_day_minutes": 190.7,
                  "total_day_calls": 114,
                  "total_day_charge": 32.42,
                  "total_eve_minutes": 218.2,
                  "total_eve_calls": 111,
                  "total_eve_charge": 18.55,
                  "total_night_minutes": 129.6,
                  "total_night_calls": 121,
                  "total_night_charge": 5.83,
                  "total_intl_minutes": 8.1,
                  "total_intl_calls": 3,
                  "total_intl_charge": 2.19,
                  "number_customer_service_calls": 3,
                  "Churn": " False.",
                  "_deepnote_index_column": 17
                },
                {
                  "state": "VA",
                  "account_length": 76,
                  "area_code": 510,
                  "phone_number": " 356-2992",
                  "international_plan": " no",
                  "voice_mail_plan": " yes",
                  "number_vmail_messages": 33,
                  "total_day_minutes": 189.7,
                  "total_day_calls": 66,
                  "total_day_charge": 32.25,
                  "total_eve_minutes": 212.8,
                  "total_eve_calls": 65,
                  "total_eve_charge": 18.09,
                  "total_night_minutes": 165.7,
                  "total_night_calls": 108,
                  "total_night_charge": 7.46,
                  "total_intl_minutes": 10,
                  "total_intl_calls": 5,
                  "total_intl_charge": 2.7,
                  "number_customer_service_calls": 1,
                  "Churn": " False.",
                  "_deepnote_index_column": 18
                },
                {
                  "state": "TX",
                  "account_length": 73,
                  "area_code": 415,
                  "phone_number": " 373-2782",
                  "international_plan": " no",
                  "voice_mail_plan": " no",
                  "number_vmail_messages": 0,
                  "total_day_minutes": 224.4,
                  "total_day_calls": 90,
                  "total_day_charge": 38.15,
                  "total_eve_minutes": 159.5,
                  "total_eve_calls": 88,
                  "total_eve_charge": 13.56,
                  "total_night_minutes": 192.8,
                  "total_night_calls": 74,
                  "total_night_charge": 8.68,
                  "total_intl_minutes": 13,
                  "total_intl_calls": 2,
                  "total_intl_charge": 3.51,
                  "number_customer_service_calls": 1,
                  "Churn": " False.",
                  "_deepnote_index_column": 19
                },
                {
                  "state": "FL",
                  "account_length": 147,
                  "area_code": 415,
                  "phone_number": " 396-5800",
                  "international_plan": " no",
                  "voice_mail_plan": " no",
                  "number_vmail_messages": 0,
                  "total_day_minutes": 155.1,
                  "total_day_calls": 117,
                  "total_day_charge": 26.37,
                  "total_eve_minutes": 239.7,
                  "total_eve_calls": 93,
                  "total_eve_charge": 20.37,
                  "total_night_minutes": 208.8,
                  "total_night_calls": 133,
                  "total_night_charge": 9.4,
                  "total_intl_minutes": 10.6,
                  "total_intl_calls": 4,
                  "total_intl_charge": 2.86,
                  "number_customer_service_calls": 0,
                  "Churn": " False.",
                  "_deepnote_index_column": 20
                },
                {
                  "state": "CO",
                  "account_length": 77,
                  "area_code": 408,
                  "phone_number": " 393-7984",
                  "international_plan": " no",
                  "voice_mail_plan": " no",
                  "number_vmail_messages": 0,
                  "total_day_minutes": 62.4,
                  "total_day_calls": 89,
                  "total_day_charge": 10.61,
                  "total_eve_minutes": 169.9,
                  "total_eve_calls": 121,
                  "total_eve_charge": 14.44,
                  "total_night_minutes": 209.6,
                  "total_night_calls": 64,
                  "total_night_charge": 9.43,
                  "total_intl_minutes": 5.7,
                  "total_intl_calls": 6,
                  "total_intl_charge": 1.54,
                  "number_customer_service_calls": 5,
                  "Churn": " True.",
                  "_deepnote_index_column": 21
                },
                {
                  "state": "AZ",
                  "account_length": 130,
                  "area_code": 415,
                  "phone_number": " 358-1958",
                  "international_plan": " no",
                  "voice_mail_plan": " no",
                  "number_vmail_messages": 0,
                  "total_day_minutes": 183,
                  "total_day_calls": 112,
                  "total_day_charge": 31.11,
                  "total_eve_minutes": 72.9,
                  "total_eve_calls": 99,
                  "total_eve_charge": 6.2,
                  "total_night_minutes": 181.8,
                  "total_night_calls": 78,
                  "total_night_charge": 8.18,
                  "total_intl_minutes": 9.5,
                  "total_intl_calls": 19,
                  "total_intl_charge": 2.57,
                  "number_customer_service_calls": 0,
                  "Churn": " False.",
                  "_deepnote_index_column": 22
                },
                {
                  "state": "SC",
                  "account_length": 111,
                  "area_code": 415,
                  "phone_number": " 350-2565",
                  "international_plan": " no",
                  "voice_mail_plan": " no",
                  "number_vmail_messages": 0,
                  "total_day_minutes": 110.4,
                  "total_day_calls": 103,
                  "total_day_charge": 18.77,
                  "total_eve_minutes": 137.3,
                  "total_eve_calls": 102,
                  "total_eve_charge": 11.67,
                  "total_night_minutes": 189.6,
                  "total_night_calls": 105,
                  "total_night_charge": 8.53,
                  "total_intl_minutes": 7.7,
                  "total_intl_calls": 6,
                  "total_intl_charge": 2.08,
                  "number_customer_service_calls": 2,
                  "Churn": " False.",
                  "_deepnote_index_column": 23
                },
                {
                  "state": "VA",
                  "account_length": 132,
                  "area_code": 510,
                  "phone_number": " 343-4696",
                  "international_plan": " no",
                  "voice_mail_plan": " no",
                  "number_vmail_messages": 0,
                  "total_day_minutes": 81.1,
                  "total_day_calls": 86,
                  "total_day_charge": 13.79,
                  "total_eve_minutes": 245.2,
                  "total_eve_calls": 72,
                  "total_eve_charge": 20.84,
                  "total_night_minutes": 237,
                  "total_night_calls": 115,
                  "total_night_charge": 10.67,
                  "total_intl_minutes": 10.3,
                  "total_intl_calls": 2,
                  "total_intl_charge": 2.78,
                  "number_customer_service_calls": 0,
                  "Churn": " False.",
                  "_deepnote_index_column": 24
                }
              ]
            },
            "text/plain": "     state  account_length  area_code phone_number international_plan  \\\n0       KS             128        415     382-4657                 no   \n1       OH             107        415     371-7191                 no   \n2       NJ             137        415     358-1921                 no   \n3       OH              84        408     375-9999                yes   \n4       OK              75        415     330-6626                yes   \n...    ...             ...        ...          ...                ...   \n4995    HI              50        408     365-8751                 no   \n4996    WV             152        415     334-9736                 no   \n4997    DC              61        415     333-6861                 no   \n4998    DC             109        510     394-2206                 no   \n4999    VT              86        415     373-8058                 no   \n\n     voice_mail_plan  number_vmail_messages  total_day_minutes  \\\n0                yes                     25              265.1   \n1                yes                     26              161.6   \n2                 no                      0              243.4   \n3                 no                      0              299.4   \n4                 no                      0              166.7   \n...              ...                    ...                ...   \n4995             yes                     40              235.7   \n4996              no                      0              184.2   \n4997              no                      0              140.6   \n4998              no                      0              188.8   \n4999             yes                     34              129.4   \n\n      total_day_calls  total_day_charge  ...  total_eve_calls  \\\n0                 110             45.07  ...               99   \n1                 123             27.47  ...              103   \n2                 114             41.38  ...              110   \n3                  71             50.90  ...               88   \n4                 113             28.34  ...              122   \n...               ...               ...  ...              ...   \n4995              127             40.07  ...              126   \n4996               90             31.31  ...               73   \n4997               89             23.90  ...              128   \n4998               67             32.10  ...               92   \n4999              102             22.00  ...              104   \n\n      total_eve_charge  total_night_minutes  total_night_calls  \\\n0                16.78                244.7                 91   \n1                16.62                254.4                103   \n2                10.30                162.6                104   \n3                 5.26                196.9                 89   \n4                12.61                186.9                121   \n...                ...                  ...                ...   \n4995             18.96                297.5                116   \n4996             21.83                213.6                113   \n4997             14.69                212.4                 97   \n4998             14.59                224.4                 89   \n4999             22.70                154.8                100   \n\n      total_night_charge  total_intl_minutes  total_intl_calls  \\\n0                  11.01                10.0                 3   \n1                  11.45                13.7                 3   \n2                   7.32                12.2                 5   \n3                   8.86                 6.6                 7   \n4                   8.41                10.1                 3   \n...                  ...                 ...               ...   \n4995               13.39                 9.9                 5   \n4996                9.61                14.7                 2   \n4997                9.56                13.6                 4   \n4998               10.10                 8.5                 6   \n4999                6.97                 9.3                16   \n\n      total_intl_charge  number_customer_service_calls    Churn  \n0                  2.70                              1   False.  \n1                  3.70                              1   False.  \n2                  3.29                              0   False.  \n3                  1.78                              2   False.  \n4                  2.73                              3   False.  \n...                 ...                            ...      ...  \n4995               2.67                              2   False.  \n4996               3.97                              3    True.  \n4997               3.67                              1   False.  \n4998               2.30                              0   False.  \n4999               2.51                              0   False.  \n\n[5000 rows x 21 columns]",
            "text/html": "<div>\n<style scoped>\n    .dataframe tbody tr th:only-of-type {\n        vertical-align: middle;\n    }\n\n    .dataframe tbody tr th {\n        vertical-align: top;\n    }\n\n    .dataframe thead th {\n        text-align: right;\n    }\n</style>\n<table border=\"1\" class=\"dataframe\">\n  <thead>\n    <tr style=\"text-align: right;\">\n      <th></th>\n      <th>state</th>\n      <th>account_length</th>\n      <th>area_code</th>\n      <th>phone_number</th>\n      <th>international_plan</th>\n      <th>voice_mail_plan</th>\n      <th>number_vmail_messages</th>\n      <th>total_day_minutes</th>\n      <th>total_day_calls</th>\n      <th>total_day_charge</th>\n      <th>...</th>\n      <th>total_eve_calls</th>\n      <th>total_eve_charge</th>\n      <th>total_night_minutes</th>\n      <th>total_night_calls</th>\n      <th>total_night_charge</th>\n      <th>total_intl_minutes</th>\n      <th>total_intl_calls</th>\n      <th>total_intl_charge</th>\n      <th>number_customer_service_calls</th>\n      <th>Churn</th>\n    </tr>\n  </thead>\n  <tbody>\n    <tr>\n      <th>0</th>\n      <td>KS</td>\n      <td>128</td>\n      <td>415</td>\n      <td>382-4657</td>\n      <td>no</td>\n      <td>yes</td>\n      <td>25</td>\n      <td>265.1</td>\n      <td>110</td>\n      <td>45.07</td>\n      <td>...</td>\n      <td>99</td>\n      <td>16.78</td>\n      <td>244.7</td>\n      <td>91</td>\n      <td>11.01</td>\n      <td>10.0</td>\n      <td>3</td>\n      <td>2.70</td>\n      <td>1</td>\n      <td>False.</td>\n    </tr>\n    <tr>\n      <th>1</th>\n      <td>OH</td>\n      <td>107</td>\n      <td>415</td>\n      <td>371-7191</td>\n      <td>no</td>\n      <td>yes</td>\n      <td>26</td>\n      <td>161.6</td>\n      <td>123</td>\n      <td>27.47</td>\n      <td>...</td>\n      <td>103</td>\n      <td>16.62</td>\n      <td>254.4</td>\n      <td>103</td>\n      <td>11.45</td>\n      <td>13.7</td>\n      <td>3</td>\n      <td>3.70</td>\n      <td>1</td>\n      <td>False.</td>\n    </tr>\n    <tr>\n      <th>2</th>\n      <td>NJ</td>\n      <td>137</td>\n      <td>415</td>\n      <td>358-1921</td>\n      <td>no</td>\n      <td>no</td>\n      <td>0</td>\n      <td>243.4</td>\n      <td>114</td>\n      <td>41.38</td>\n      <td>...</td>\n      <td>110</td>\n      <td>10.30</td>\n      <td>162.6</td>\n      <td>104</td>\n      <td>7.32</td>\n      <td>12.2</td>\n      <td>5</td>\n      <td>3.29</td>\n      <td>0</td>\n      <td>False.</td>\n    </tr>\n    <tr>\n      <th>3</th>\n      <td>OH</td>\n      <td>84</td>\n      <td>408</td>\n      <td>375-9999</td>\n      <td>yes</td>\n      <td>no</td>\n      <td>0</td>\n      <td>299.4</td>\n      <td>71</td>\n      <td>50.90</td>\n      <td>...</td>\n      <td>88</td>\n      <td>5.26</td>\n      <td>196.9</td>\n      <td>89</td>\n      <td>8.86</td>\n      <td>6.6</td>\n      <td>7</td>\n      <td>1.78</td>\n      <td>2</td>\n      <td>False.</td>\n    </tr>\n    <tr>\n      <th>4</th>\n      <td>OK</td>\n      <td>75</td>\n      <td>415</td>\n      <td>330-6626</td>\n      <td>yes</td>\n      <td>no</td>\n      <td>0</td>\n      <td>166.7</td>\n      <td>113</td>\n      <td>28.34</td>\n      <td>...</td>\n      <td>122</td>\n      <td>12.61</td>\n      <td>186.9</td>\n      <td>121</td>\n      <td>8.41</td>\n      <td>10.1</td>\n      <td>3</td>\n      <td>2.73</td>\n      <td>3</td>\n      <td>False.</td>\n    </tr>\n    <tr>\n      <th>...</th>\n      <td>...</td>\n      <td>...</td>\n      <td>...</td>\n      <td>...</td>\n      <td>...</td>\n      <td>...</td>\n      <td>...</td>\n      <td>...</td>\n      <td>...</td>\n      <td>...</td>\n      <td>...</td>\n      <td>...</td>\n      <td>...</td>\n      <td>...</td>\n      <td>...</td>\n      <td>...</td>\n      <td>...</td>\n      <td>...</td>\n      <td>...</td>\n      <td>...</td>\n      <td>...</td>\n    </tr>\n    <tr>\n      <th>4995</th>\n      <td>HI</td>\n      <td>50</td>\n      <td>408</td>\n      <td>365-8751</td>\n      <td>no</td>\n      <td>yes</td>\n      <td>40</td>\n      <td>235.7</td>\n      <td>127</td>\n      <td>40.07</td>\n      <td>...</td>\n      <td>126</td>\n      <td>18.96</td>\n      <td>297.5</td>\n      <td>116</td>\n      <td>13.39</td>\n      <td>9.9</td>\n      <td>5</td>\n      <td>2.67</td>\n      <td>2</td>\n      <td>False.</td>\n    </tr>\n    <tr>\n      <th>4996</th>\n      <td>WV</td>\n      <td>152</td>\n      <td>415</td>\n      <td>334-9736</td>\n      <td>no</td>\n      <td>no</td>\n      <td>0</td>\n      <td>184.2</td>\n      <td>90</td>\n      <td>31.31</td>\n      <td>...</td>\n      <td>73</td>\n      <td>21.83</td>\n      <td>213.6</td>\n      <td>113</td>\n      <td>9.61</td>\n      <td>14.7</td>\n      <td>2</td>\n      <td>3.97</td>\n      <td>3</td>\n      <td>True.</td>\n    </tr>\n    <tr>\n      <th>4997</th>\n      <td>DC</td>\n      <td>61</td>\n      <td>415</td>\n      <td>333-6861</td>\n      <td>no</td>\n      <td>no</td>\n      <td>0</td>\n      <td>140.6</td>\n      <td>89</td>\n      <td>23.90</td>\n      <td>...</td>\n      <td>128</td>\n      <td>14.69</td>\n      <td>212.4</td>\n      <td>97</td>\n      <td>9.56</td>\n      <td>13.6</td>\n      <td>4</td>\n      <td>3.67</td>\n      <td>1</td>\n      <td>False.</td>\n    </tr>\n    <tr>\n      <th>4998</th>\n      <td>DC</td>\n      <td>109</td>\n      <td>510</td>\n      <td>394-2206</td>\n      <td>no</td>\n      <td>no</td>\n      <td>0</td>\n      <td>188.8</td>\n      <td>67</td>\n      <td>32.10</td>\n      <td>...</td>\n      <td>92</td>\n      <td>14.59</td>\n      <td>224.4</td>\n      <td>89</td>\n      <td>10.10</td>\n      <td>8.5</td>\n      <td>6</td>\n      <td>2.30</td>\n      <td>0</td>\n      <td>False.</td>\n    </tr>\n    <tr>\n      <th>4999</th>\n      <td>VT</td>\n      <td>86</td>\n      <td>415</td>\n      <td>373-8058</td>\n      <td>no</td>\n      <td>yes</td>\n      <td>34</td>\n      <td>129.4</td>\n      <td>102</td>\n      <td>22.00</td>\n      <td>...</td>\n      <td>104</td>\n      <td>22.70</td>\n      <td>154.8</td>\n      <td>100</td>\n      <td>6.97</td>\n      <td>9.3</td>\n      <td>16</td>\n      <td>2.51</td>\n      <td>0</td>\n      <td>False.</td>\n    </tr>\n  </tbody>\n</table>\n<p>5000 rows × 21 columns</p>\n</div>"
          },
          "metadata": {}
        }
      ],
      "execution_count": 5,
      "block_group": "9e3ebf299f2d4fe6961dc37e3e7cb622"
    },
    {
      "cell_type": "code",
      "source": "correlation1 = df['total_day_minutes'].corr(df['total_day_charge'])\ncorrelation2 = df['total_day_calls'].corr(df['total_day_charge'])\n\nprint(round(correlation1,4), '      ',round(correlation2,4))\n\ncorrelation1 = df['total_eve_minutes'].corr(df['total_eve_charge'])\ncorrelation2 = df['total_eve_calls'].corr(df['total_eve_charge'])\n\nprint(round(correlation1,4), '      ',round(correlation2,4))\n\ncorrelation1 = df['total_night_minutes'].corr(df['total_night_charge'])\ncorrelation2 = df['total_night_calls'].corr(df['total_night_charge'])\n\nprint(round(correlation1,4), '      ',round(correlation2,4))\n\ncorrelation1 = df['total_intl_minutes'].corr(df['total_intl_charge'])\ncorrelation2 = df['total_intl_calls'].corr(df['total_intl_charge'])\n\nprint(round(correlation1,4), '      ',round(correlation2,4))",
      "metadata": {
        "source_hash": "ca6961f",
        "execution_start": 1696584737758,
        "execution_millis": 18,
        "deepnote_to_be_reexecuted": false,
        "cell_id": "02cce07f4b0c45a1b097ae610c41d651",
        "deepnote_cell_type": "code"
      },
      "outputs": [
        {
          "name": "stdout",
          "text": "1.0        0.0177\n1.0        0.0028\n1.0        0.0269\n1.0        0.0169\n",
          "output_type": "stream"
        }
      ],
      "execution_count": 6,
      "block_group": "2df8262993c843e8aa3575b4d0b0e52e"
    },
    {
      "cell_type": "markdown",
      "source": "Hacemos una clasificación por uso del 1 al 5 donde 5 es el de mayor uso y 1 el de menor uso",
      "metadata": {
        "formattedRanges": [],
        "cell_id": "fdd1c7510b63489b80af7a72d387814e",
        "deepnote_cell_type": "text-cell-p"
      },
      "block_group": "466390c71d884d42b8355111b675e08a"
    },
    {
      "cell_type": "code",
      "source": "df['calls'] = df['total_intl_calls']+df['total_night_calls'] + df['total_eve_calls'] + df['total_day_calls']\ndf['calls-cla'] = pd.qcut(df['calls'], q=5, labels=False) + 1\ndf['charge'] = df['total_intl_charge']+df['total_night_charge'] + df['total_eve_charge'] + df['total_day_charge']\ndf['charge-cla'] = pd.qcut(df['charge'], q=2, labels=False) + 1\ndf['day-cla'] = pd.qcut(df['total_day_calls'], q=5, labels=False) + 1\ndf['day-eve'] = pd.qcut(df['total_eve_calls'], q=5, labels=False) + 1\ndf['day-night'] = pd.qcut(df['total_night_calls'], q=5, labels=False) + 1\ndf['day-intl'] = pd.qcut(df['total_intl_calls'], q=5, labels=False) + 1",
      "metadata": {
        "source_hash": "e614e8eb",
        "execution_start": 1696584737779,
        "execution_millis": 150,
        "deepnote_table_state": {
          "sortBy": [],
          "filters": [],
          "pageSize": 10,
          "pageIndex": 499
        },
        "deepnote_table_loading": false,
        "deepnote_to_be_reexecuted": false,
        "cell_id": "6203754e66514336b818fb6314515a6a",
        "deepnote_cell_type": "code"
      },
      "outputs": [],
      "execution_count": 7,
      "block_group": "4181b718191b47cab7dea6117dc6a56a"
    },
    {
      "cell_type": "markdown",
      "source": "Charges es lineal a minutes por lo cual usando una de las variables podemos apreciar las",
      "metadata": {
        "formattedRanges": [],
        "cell_id": "53f92655080e433fa4e727ac12f3c77d",
        "deepnote_cell_type": "text-cell-p"
      },
      "block_group": "97e7f31bf2ed4134a41bf7ab9eb7be70"
    },
    {
      "cell_type": "markdown",
      "source": "",
      "metadata": {
        "formattedRanges": [],
        "cell_id": "402ef4a089c64e7d919ee984684df744",
        "deepnote_cell_type": "text-cell-p"
      },
      "block_group": "e2a2db08f94d4fa2830f8cd6f8d24282"
    },
    {
      "cell_type": "code",
      "source": "le = LabelEncoder()\n\n\ndf['Churn'] = le.fit_transform(df['Churn'])\ndf['international_plan'] = le.fit_transform(df['international_plan'])\ndf['voice_mail_plan'] = le.fit_transform(df['voice_mail_plan'])",
      "metadata": {
        "source_hash": "f5bef710",
        "execution_start": 1696584737847,
        "execution_millis": 10,
        "deepnote_to_be_reexecuted": false,
        "cell_id": "08fdce9db43f4dd2ad941a9ef95ac745",
        "deepnote_cell_type": "code"
      },
      "outputs": [],
      "execution_count": 8,
      "block_group": "a5c4a9ffc025439e991b88c8a42bb1ac"
    },
    {
      "cell_type": "code",
      "source": "columns_drop = ['total_day_minutes','total_eve_minutes','total_night_minutes','total_intl_minutes','total_day_calls','total_eve_calls','total_night_calls','total_intl_calls','total_day_charge','total_eve_charge','total_night_charge','total_intl_charge','account_length','phone_number']\n\n\ndf = df.drop(columns=columns_drop)\ndf\n\n#df['Column'] = df['Column'].str.extract('(\\d+)') ",
      "metadata": {
        "source_hash": "75348a99",
        "execution_start": 1696584737847,
        "execution_millis": 232,
        "deepnote_to_be_reexecuted": false,
        "cell_id": "e875c77bd5bc42da8465c0416c9a248b",
        "deepnote_cell_type": "code"
      },
      "outputs": [
        {
          "output_type": "execute_result",
          "execution_count": 9,
          "data": {
            "application/vnd.deepnote.dataframe.v3+json": {
              "column_count": 15,
              "row_count": 5000,
              "columns": [
                {
                  "name": "state",
                  "dtype": "object",
                  "stats": {
                    "unique_count": 51,
                    "nan_count": 0,
                    "categories": [
                      {
                        "name": "WV",
                        "count": 158
                      },
                      {
                        "name": "MN",
                        "count": 125
                      },
                      {
                        "name": "49 others",
                        "count": 4717
                      }
                    ]
                  }
                },
                {
                  "name": "area_code",
                  "dtype": "int64",
                  "stats": {
                    "unique_count": 3,
                    "nan_count": 0,
                    "min": "408",
                    "max": "510",
                    "histogram": [
                      {
                        "bin_start": 408,
                        "bin_end": 418.2,
                        "count": 3754
                      },
                      {
                        "bin_start": 418.2,
                        "bin_end": 428.4,
                        "count": 0
                      },
                      {
                        "bin_start": 428.4,
                        "bin_end": 438.6,
                        "count": 0
                      },
                      {
                        "bin_start": 438.6,
                        "bin_end": 448.8,
                        "count": 0
                      },
                      {
                        "bin_start": 448.8,
                        "bin_end": 459,
                        "count": 0
                      },
                      {
                        "bin_start": 459,
                        "bin_end": 469.2,
                        "count": 0
                      },
                      {
                        "bin_start": 469.2,
                        "bin_end": 479.4,
                        "count": 0
                      },
                      {
                        "bin_start": 479.4,
                        "bin_end": 489.6,
                        "count": 0
                      },
                      {
                        "bin_start": 489.6,
                        "bin_end": 499.8,
                        "count": 0
                      },
                      {
                        "bin_start": 499.8,
                        "bin_end": 510,
                        "count": 1246
                      }
                    ]
                  }
                },
                {
                  "name": "international_plan",
                  "dtype": "int64",
                  "stats": {
                    "unique_count": 2,
                    "nan_count": 0,
                    "min": "0",
                    "max": "1",
                    "histogram": [
                      {
                        "bin_start": 0,
                        "bin_end": 0.1,
                        "count": 4527
                      },
                      {
                        "bin_start": 0.1,
                        "bin_end": 0.2,
                        "count": 0
                      },
                      {
                        "bin_start": 0.2,
                        "bin_end": 0.30000000000000004,
                        "count": 0
                      },
                      {
                        "bin_start": 0.30000000000000004,
                        "bin_end": 0.4,
                        "count": 0
                      },
                      {
                        "bin_start": 0.4,
                        "bin_end": 0.5,
                        "count": 0
                      },
                      {
                        "bin_start": 0.5,
                        "bin_end": 0.6000000000000001,
                        "count": 0
                      },
                      {
                        "bin_start": 0.6000000000000001,
                        "bin_end": 0.7000000000000001,
                        "count": 0
                      },
                      {
                        "bin_start": 0.7000000000000001,
                        "bin_end": 0.8,
                        "count": 0
                      },
                      {
                        "bin_start": 0.8,
                        "bin_end": 0.9,
                        "count": 0
                      },
                      {
                        "bin_start": 0.9,
                        "bin_end": 1,
                        "count": 473
                      }
                    ]
                  }
                },
                {
                  "name": "voice_mail_plan",
                  "dtype": "int64",
                  "stats": {
                    "unique_count": 2,
                    "nan_count": 0,
                    "min": "0",
                    "max": "1",
                    "histogram": [
                      {
                        "bin_start": 0,
                        "bin_end": 0.1,
                        "count": 3677
                      },
                      {
                        "bin_start": 0.1,
                        "bin_end": 0.2,
                        "count": 0
                      },
                      {
                        "bin_start": 0.2,
                        "bin_end": 0.30000000000000004,
                        "count": 0
                      },
                      {
                        "bin_start": 0.30000000000000004,
                        "bin_end": 0.4,
                        "count": 0
                      },
                      {
                        "bin_start": 0.4,
                        "bin_end": 0.5,
                        "count": 0
                      },
                      {
                        "bin_start": 0.5,
                        "bin_end": 0.6000000000000001,
                        "count": 0
                      },
                      {
                        "bin_start": 0.6000000000000001,
                        "bin_end": 0.7000000000000001,
                        "count": 0
                      },
                      {
                        "bin_start": 0.7000000000000001,
                        "bin_end": 0.8,
                        "count": 0
                      },
                      {
                        "bin_start": 0.8,
                        "bin_end": 0.9,
                        "count": 0
                      },
                      {
                        "bin_start": 0.9,
                        "bin_end": 1,
                        "count": 1323
                      }
                    ]
                  }
                },
                {
                  "name": "number_vmail_messages",
                  "dtype": "int64",
                  "stats": {
                    "unique_count": 48,
                    "nan_count": 0,
                    "min": "0",
                    "max": "52",
                    "histogram": [
                      {
                        "bin_start": 0,
                        "bin_end": 5.2,
                        "count": 3679
                      },
                      {
                        "bin_start": 5.2,
                        "bin_end": 10.4,
                        "count": 10
                      },
                      {
                        "bin_start": 10.4,
                        "bin_end": 15.600000000000001,
                        "count": 39
                      },
                      {
                        "bin_start": 15.600000000000001,
                        "bin_end": 20.8,
                        "count": 115
                      },
                      {
                        "bin_start": 20.8,
                        "bin_end": 26,
                        "count": 255
                      },
                      {
                        "bin_start": 26,
                        "bin_end": 31.200000000000003,
                        "count": 397
                      },
                      {
                        "bin_start": 31.200000000000003,
                        "bin_end": 36.4,
                        "count": 250
                      },
                      {
                        "bin_start": 36.4,
                        "bin_end": 41.6,
                        "count": 176
                      },
                      {
                        "bin_start": 41.6,
                        "bin_end": 46.800000000000004,
                        "count": 63
                      },
                      {
                        "bin_start": 46.800000000000004,
                        "bin_end": 52,
                        "count": 16
                      }
                    ]
                  }
                },
                {
                  "name": "number_customer_service_calls",
                  "dtype": "int64",
                  "stats": {
                    "unique_count": 10,
                    "nan_count": 0,
                    "min": "0",
                    "max": "9",
                    "histogram": [
                      {
                        "bin_start": 0,
                        "bin_end": 0.9,
                        "count": 1023
                      },
                      {
                        "bin_start": 0.9,
                        "bin_end": 1.8,
                        "count": 1786
                      },
                      {
                        "bin_start": 1.8,
                        "bin_end": 2.7,
                        "count": 1127
                      },
                      {
                        "bin_start": 2.7,
                        "bin_end": 3.6,
                        "count": 665
                      },
                      {
                        "bin_start": 3.6,
                        "bin_end": 4.5,
                        "count": 252
                      },
                      {
                        "bin_start": 4.5,
                        "bin_end": 5.4,
                        "count": 96
                      },
                      {
                        "bin_start": 5.4,
                        "bin_end": 6.3,
                        "count": 34
                      },
                      {
                        "bin_start": 6.3,
                        "bin_end": 7.2,
                        "count": 13
                      },
                      {
                        "bin_start": 7.2,
                        "bin_end": 8.1,
                        "count": 2
                      },
                      {
                        "bin_start": 8.1,
                        "bin_end": 9,
                        "count": 2
                      }
                    ]
                  }
                },
                {
                  "name": "Churn",
                  "dtype": "int64",
                  "stats": {
                    "unique_count": 2,
                    "nan_count": 0,
                    "min": "0",
                    "max": "1",
                    "histogram": [
                      {
                        "bin_start": 0,
                        "bin_end": 0.1,
                        "count": 4293
                      },
                      {
                        "bin_start": 0.1,
                        "bin_end": 0.2,
                        "count": 0
                      },
                      {
                        "bin_start": 0.2,
                        "bin_end": 0.30000000000000004,
                        "count": 0
                      },
                      {
                        "bin_start": 0.30000000000000004,
                        "bin_end": 0.4,
                        "count": 0
                      },
                      {
                        "bin_start": 0.4,
                        "bin_end": 0.5,
                        "count": 0
                      },
                      {
                        "bin_start": 0.5,
                        "bin_end": 0.6000000000000001,
                        "count": 0
                      },
                      {
                        "bin_start": 0.6000000000000001,
                        "bin_end": 0.7000000000000001,
                        "count": 0
                      },
                      {
                        "bin_start": 0.7000000000000001,
                        "bin_end": 0.8,
                        "count": 0
                      },
                      {
                        "bin_start": 0.8,
                        "bin_end": 0.9,
                        "count": 0
                      },
                      {
                        "bin_start": 0.9,
                        "bin_end": 1,
                        "count": 707
                      }
                    ]
                  }
                },
                {
                  "name": "calls",
                  "dtype": "int64",
                  "stats": {
                    "unique_count": 214,
                    "nan_count": 0,
                    "min": "191",
                    "max": "10266",
                    "histogram": [
                      {
                        "bin_start": 191,
                        "bin_end": 1198.5,
                        "count": 4990
                      },
                      {
                        "bin_start": 1198.5,
                        "bin_end": 2206,
                        "count": 0
                      },
                      {
                        "bin_start": 2206,
                        "bin_end": 3213.5,
                        "count": 0
                      },
                      {
                        "bin_start": 3213.5,
                        "bin_end": 4221,
                        "count": 0
                      },
                      {
                        "bin_start": 4221,
                        "bin_end": 5228.5,
                        "count": 0
                      },
                      {
                        "bin_start": 5228.5,
                        "bin_end": 6236,
                        "count": 0
                      },
                      {
                        "bin_start": 6236,
                        "bin_end": 7243.5,
                        "count": 0
                      },
                      {
                        "bin_start": 7243.5,
                        "bin_end": 8251,
                        "count": 0
                      },
                      {
                        "bin_start": 8251,
                        "bin_end": 9258.5,
                        "count": 0
                      },
                      {
                        "bin_start": 9258.5,
                        "bin_end": 10266,
                        "count": 10
                      }
                    ]
                  }
                },
                {
                  "name": "calls-cla",
                  "dtype": "int64",
                  "stats": {
                    "unique_count": 5,
                    "nan_count": 0,
                    "min": "1",
                    "max": "5",
                    "histogram": [
                      {
                        "bin_start": 1,
                        "bin_end": 1.4,
                        "count": 1017
                      },
                      {
                        "bin_start": 1.4,
                        "bin_end": 1.8,
                        "count": 0
                      },
                      {
                        "bin_start": 1.8,
                        "bin_end": 2.2,
                        "count": 1017
                      },
                      {
                        "bin_start": 2.2,
                        "bin_end": 2.6,
                        "count": 0
                      },
                      {
                        "bin_start": 2.6,
                        "bin_end": 3,
                        "count": 0
                      },
                      {
                        "bin_start": 3,
                        "bin_end": 3.4000000000000004,
                        "count": 1001
                      },
                      {
                        "bin_start": 3.4000000000000004,
                        "bin_end": 3.8000000000000003,
                        "count": 0
                      },
                      {
                        "bin_start": 3.8000000000000003,
                        "bin_end": 4.2,
                        "count": 993
                      },
                      {
                        "bin_start": 4.2,
                        "bin_end": 4.6,
                        "count": 0
                      },
                      {
                        "bin_start": 4.6,
                        "bin_end": 5,
                        "count": 972
                      }
                    ]
                  }
                },
                {
                  "name": "charge",
                  "dtype": "float64",
                  "stats": {
                    "unique_count": 3298,
                    "nan_count": 0,
                    "min": "22.93",
                    "max": "96.15",
                    "histogram": [
                      {
                        "bin_start": 22.93,
                        "bin_end": 30.252,
                        "count": 14
                      },
                      {
                        "bin_start": 30.252,
                        "bin_end": 37.574,
                        "count": 83
                      },
                      {
                        "bin_start": 37.574,
                        "bin_end": 44.896,
                        "count": 284
                      },
                      {
                        "bin_start": 44.896,
                        "bin_end": 52.218,
                        "count": 832
                      },
                      {
                        "bin_start": 52.218,
                        "bin_end": 59.54,
                        "count": 1295
                      },
                      {
                        "bin_start": 59.54,
                        "bin_end": 66.862,
                        "count": 1314
                      },
                      {
                        "bin_start": 66.862,
                        "bin_end": 74.184,
                        "count": 784
                      },
                      {
                        "bin_start": 74.184,
                        "bin_end": 81.506,
                        "count": 305
                      },
                      {
                        "bin_start": 81.506,
                        "bin_end": 88.828,
                        "count": 77
                      },
                      {
                        "bin_start": 88.828,
                        "bin_end": 96.15,
                        "count": 12
                      }
                    ]
                  }
                },
                {
                  "name": "charge-cla",
                  "dtype": "int64",
                  "stats": {
                    "unique_count": 2,
                    "nan_count": 0,
                    "min": "1",
                    "max": "2",
                    "histogram": [
                      {
                        "bin_start": 1,
                        "bin_end": 1.1,
                        "count": 2501
                      },
                      {
                        "bin_start": 1.1,
                        "bin_end": 1.2,
                        "count": 0
                      },
                      {
                        "bin_start": 1.2,
                        "bin_end": 1.3,
                        "count": 0
                      },
                      {
                        "bin_start": 1.3,
                        "bin_end": 1.4,
                        "count": 0
                      },
                      {
                        "bin_start": 1.4,
                        "bin_end": 1.5,
                        "count": 0
                      },
                      {
                        "bin_start": 1.5,
                        "bin_end": 1.6,
                        "count": 0
                      },
                      {
                        "bin_start": 1.6,
                        "bin_end": 1.7000000000000002,
                        "count": 0
                      },
                      {
                        "bin_start": 1.7000000000000002,
                        "bin_end": 1.8,
                        "count": 0
                      },
                      {
                        "bin_start": 1.8,
                        "bin_end": 1.9,
                        "count": 0
                      },
                      {
                        "bin_start": 1.9,
                        "bin_end": 2,
                        "count": 2499
                      }
                    ]
                  }
                },
                {
                  "name": "day-cla",
                  "dtype": "int64",
                  "stats": {
                    "unique_count": 5,
                    "nan_count": 0,
                    "min": "1",
                    "max": "5",
                    "histogram": [
                      {
                        "bin_start": 1,
                        "bin_end": 1.4,
                        "count": 1058
                      },
                      {
                        "bin_start": 1.4,
                        "bin_end": 1.8,
                        "count": 0
                      },
                      {
                        "bin_start": 1.8,
                        "bin_end": 2.2,
                        "count": 968
                      },
                      {
                        "bin_start": 2.2,
                        "bin_end": 2.6,
                        "count": 0
                      },
                      {
                        "bin_start": 2.6,
                        "bin_end": 3,
                        "count": 0
                      },
                      {
                        "bin_start": 3,
                        "bin_end": 3.4000000000000004,
                        "count": 1000
                      },
                      {
                        "bin_start": 3.4000000000000004,
                        "bin_end": 3.8000000000000003,
                        "count": 0
                      },
                      {
                        "bin_start": 3.8000000000000003,
                        "bin_end": 4.2,
                        "count": 1041
                      },
                      {
                        "bin_start": 4.2,
                        "bin_end": 4.6,
                        "count": 0
                      },
                      {
                        "bin_start": 4.6,
                        "bin_end": 5,
                        "count": 933
                      }
                    ]
                  }
                },
                {
                  "name": "day-eve",
                  "dtype": "int64",
                  "stats": {
                    "unique_count": 5,
                    "nan_count": 0,
                    "min": "1",
                    "max": "5",
                    "histogram": [
                      {
                        "bin_start": 1,
                        "bin_end": 1.4,
                        "count": 1057
                      },
                      {
                        "bin_start": 1.4,
                        "bin_end": 1.8,
                        "count": 0
                      },
                      {
                        "bin_start": 1.8,
                        "bin_end": 2.2,
                        "count": 973
                      },
                      {
                        "bin_start": 2.2,
                        "bin_end": 2.6,
                        "count": 0
                      },
                      {
                        "bin_start": 2.6,
                        "bin_end": 3,
                        "count": 0
                      },
                      {
                        "bin_start": 3,
                        "bin_end": 3.4000000000000004,
                        "count": 1001
                      },
                      {
                        "bin_start": 3.4000000000000004,
                        "bin_end": 3.8000000000000003,
                        "count": 0
                      },
                      {
                        "bin_start": 3.8000000000000003,
                        "bin_end": 4.2,
                        "count": 1026
                      },
                      {
                        "bin_start": 4.2,
                        "bin_end": 4.6,
                        "count": 0
                      },
                      {
                        "bin_start": 4.6,
                        "bin_end": 5,
                        "count": 943
                      }
                    ]
                  }
                },
                {
                  "name": "day-night",
                  "dtype": "int64",
                  "stats": {
                    "unique_count": 5,
                    "nan_count": 0,
                    "min": "1",
                    "max": "5",
                    "histogram": [
                      {
                        "bin_start": 1,
                        "bin_end": 1.4,
                        "count": 1051
                      },
                      {
                        "bin_start": 1.4,
                        "bin_end": 1.8,
                        "count": 0
                      },
                      {
                        "bin_start": 1.8,
                        "bin_end": 2.2,
                        "count": 1005
                      },
                      {
                        "bin_start": 2.2,
                        "bin_end": 2.6,
                        "count": 0
                      },
                      {
                        "bin_start": 2.6,
                        "bin_end": 3,
                        "count": 0
                      },
                      {
                        "bin_start": 3,
                        "bin_end": 3.4000000000000004,
                        "count": 1011
                      },
                      {
                        "bin_start": 3.4000000000000004,
                        "bin_end": 3.8000000000000003,
                        "count": 0
                      },
                      {
                        "bin_start": 3.8000000000000003,
                        "bin_end": 4.2,
                        "count": 981
                      },
                      {
                        "bin_start": 4.2,
                        "bin_end": 4.6,
                        "count": 0
                      },
                      {
                        "bin_start": 4.6,
                        "bin_end": 5,
                        "count": 952
                      }
                    ]
                  }
                },
                {
                  "name": "day-intl",
                  "dtype": "int64",
                  "stats": {
                    "unique_count": 5,
                    "nan_count": 0,
                    "min": "1",
                    "max": "5",
                    "histogram": [
                      {
                        "bin_start": 1,
                        "bin_end": 1.4,
                        "count": 1032
                      },
                      {
                        "bin_start": 1.4,
                        "bin_end": 1.8,
                        "count": 0
                      },
                      {
                        "bin_start": 1.8,
                        "bin_end": 2.2,
                        "count": 992
                      },
                      {
                        "bin_start": 2.2,
                        "bin_end": 2.6,
                        "count": 0
                      },
                      {
                        "bin_start": 2.6,
                        "bin_end": 3,
                        "count": 0
                      },
                      {
                        "bin_start": 3,
                        "bin_end": 3.4000000000000004,
                        "count": 1659
                      },
                      {
                        "bin_start": 3.4000000000000004,
                        "bin_end": 3.8000000000000003,
                        "count": 0
                      },
                      {
                        "bin_start": 3.8000000000000003,
                        "bin_end": 4.2,
                        "count": 495
                      },
                      {
                        "bin_start": 4.2,
                        "bin_end": 4.6,
                        "count": 0
                      },
                      {
                        "bin_start": 4.6,
                        "bin_end": 5,
                        "count": 822
                      }
                    ]
                  }
                },
                {
                  "name": "_deepnote_index_column",
                  "dtype": "int64"
                }
              ],
              "rows": [
                {
                  "state": "ND",
                  "area_code": 510,
                  "international_plan": 0,
                  "voice_mail_plan": 0,
                  "number_vmail_messages": 0,
                  "number_customer_service_calls": 1,
                  "Churn": 1,
                  "calls": 334,
                  "calls-cla": 4,
                  "charge": 76.02000000000001,
                  "charge-cla": 2,
                  "day-cla": 4,
                  "day-eve": 3,
                  "day-night": 4,
                  "day-intl": 4,
                  "_deepnote_index_column": 4990
                },
                {
                  "state": "AZ",
                  "area_code": 510,
                  "international_plan": 0,
                  "voice_mail_plan": 0,
                  "number_vmail_messages": 0,
                  "number_customer_service_calls": 1,
                  "Churn": 1,
                  "calls": 252,
                  "calls-cla": 1,
                  "charge": 85.78999999999999,
                  "charge-cla": 2,
                  "day-cla": 2,
                  "day-eve": 2,
                  "day-night": 1,
                  "day-intl": 3,
                  "_deepnote_index_column": 4991
                },
                {
                  "state": "MT",
                  "area_code": 415,
                  "international_plan": 0,
                  "voice_mail_plan": 0,
                  "number_vmail_messages": 0,
                  "number_customer_service_calls": 0,
                  "Churn": 0,
                  "calls": 243,
                  "calls-cla": 1,
                  "charge": 65.13,
                  "charge-cla": 2,
                  "day-cla": 1,
                  "day-eve": 2,
                  "day-night": 1,
                  "day-intl": 4,
                  "_deepnote_index_column": 4992
                },
                {
                  "state": "WV",
                  "area_code": 408,
                  "international_plan": 0,
                  "voice_mail_plan": 0,
                  "number_vmail_messages": 0,
                  "number_customer_service_calls": 3,
                  "Churn": 0,
                  "calls": 266,
                  "calls-cla": 1,
                  "charge": 52.879999999999995,
                  "charge-cla": 1,
                  "day-cla": 2,
                  "day-eve": 1,
                  "day-night": 2,
                  "day-intl": 4,
                  "_deepnote_index_column": 4993
                },
                {
                  "state": "NC",
                  "area_code": 408,
                  "international_plan": 0,
                  "voice_mail_plan": 0,
                  "number_vmail_messages": 0,
                  "number_customer_service_calls": 1,
                  "Churn": 0,
                  "calls": 338,
                  "calls-cla": 5,
                  "charge": 53.099999999999994,
                  "charge-cla": 1,
                  "day-cla": 3,
                  "day-eve": 5,
                  "day-night": 3,
                  "day-intl": 5,
                  "_deepnote_index_column": 4994
                },
                {
                  "state": "HI",
                  "area_code": 408,
                  "international_plan": 0,
                  "voice_mail_plan": 1,
                  "number_vmail_messages": 40,
                  "number_customer_service_calls": 2,
                  "Churn": 0,
                  "calls": 374,
                  "calls-cla": 5,
                  "charge": 75.09,
                  "charge-cla": 2,
                  "day-cla": 5,
                  "day-eve": 5,
                  "day-night": 4,
                  "day-intl": 3,
                  "_deepnote_index_column": 4995
                },
                {
                  "state": "WV",
                  "area_code": 415,
                  "international_plan": 0,
                  "voice_mail_plan": 0,
                  "number_vmail_messages": 0,
                  "number_customer_service_calls": 3,
                  "Churn": 1,
                  "calls": 278,
                  "calls-cla": 2,
                  "charge": 66.72,
                  "charge-cla": 2,
                  "day-cla": 2,
                  "day-eve": 1,
                  "day-night": 4,
                  "day-intl": 1,
                  "_deepnote_index_column": 4996
                },
                {
                  "state": "DC",
                  "area_code": 415,
                  "international_plan": 0,
                  "voice_mail_plan": 0,
                  "number_vmail_messages": 0,
                  "number_customer_service_calls": 1,
                  "Churn": 0,
                  "calls": 318,
                  "calls-cla": 4,
                  "charge": 51.82,
                  "charge-cla": 1,
                  "day-cla": 2,
                  "day-eve": 5,
                  "day-night": 3,
                  "day-intl": 3,
                  "_deepnote_index_column": 4997
                },
                {
                  "state": "DC",
                  "area_code": 510,
                  "international_plan": 0,
                  "voice_mail_plan": 0,
                  "number_vmail_messages": 0,
                  "number_customer_service_calls": 0,
                  "Churn": 0,
                  "calls": 254,
                  "calls-cla": 1,
                  "charge": 59.09,
                  "charge-cla": 1,
                  "day-cla": 1,
                  "day-eve": 2,
                  "day-night": 2,
                  "day-intl": 4,
                  "_deepnote_index_column": 4998
                },
                {
                  "state": "VT",
                  "area_code": 415,
                  "international_plan": 0,
                  "voice_mail_plan": 1,
                  "number_vmail_messages": 34,
                  "number_customer_service_calls": 0,
                  "Churn": 0,
                  "calls": 322,
                  "calls-cla": 4,
                  "charge": 54.18,
                  "charge-cla": 1,
                  "day-cla": 3,
                  "day-eve": 3,
                  "day-night": 3,
                  "day-intl": 5,
                  "_deepnote_index_column": 4999
                }
              ]
            },
            "text/plain": "     state  area_code  international_plan  voice_mail_plan  \\\n0       KS        415                   0                1   \n1       OH        415                   0                1   \n2       NJ        415                   0                0   \n3       OH        408                   1                0   \n4       OK        415                   1                0   \n...    ...        ...                 ...              ...   \n4995    HI        408                   0                1   \n4996    WV        415                   0                0   \n4997    DC        415                   0                0   \n4998    DC        510                   0                0   \n4999    VT        415                   0                1   \n\n      number_vmail_messages  number_customer_service_calls  Churn  calls  \\\n0                        25                              1      0    303   \n1                        26                              1      0    332   \n2                         0                              0      0    333   \n3                         0                              2      0    255   \n4                         0                              3      0    359   \n...                     ...                            ...    ...    ...   \n4995                     40                              2      0    374   \n4996                      0                              3      1    278   \n4997                      0                              1      0    318   \n4998                      0                              0      0    254   \n4999                     34                              0      0    322   \n\n      calls-cla  charge  charge-cla  day-cla  day-eve  day-night  day-intl  \n0             3   75.56           2        4        3          2         2  \n1             4   59.24           1        5        3          3         2  \n2             4   62.29           2        4        4          3         3  \n3             1   66.80           2        1        2          2         5  \n4             5   52.09           1        4        5          5         2  \n...         ...     ...         ...      ...      ...        ...       ...  \n4995          5   75.09           2        5        5          4         3  \n4996          2   66.72           2        2        1          4         1  \n4997          4   51.82           1        2        5          3         3  \n4998          1   59.09           1        1        2          2         4  \n4999          4   54.18           1        3        3          3         5  \n\n[5000 rows x 15 columns]",
            "text/html": "<div>\n<style scoped>\n    .dataframe tbody tr th:only-of-type {\n        vertical-align: middle;\n    }\n\n    .dataframe tbody tr th {\n        vertical-align: top;\n    }\n\n    .dataframe thead th {\n        text-align: right;\n    }\n</style>\n<table border=\"1\" class=\"dataframe\">\n  <thead>\n    <tr style=\"text-align: right;\">\n      <th></th>\n      <th>state</th>\n      <th>area_code</th>\n      <th>international_plan</th>\n      <th>voice_mail_plan</th>\n      <th>number_vmail_messages</th>\n      <th>number_customer_service_calls</th>\n      <th>Churn</th>\n      <th>calls</th>\n      <th>calls-cla</th>\n      <th>charge</th>\n      <th>charge-cla</th>\n      <th>day-cla</th>\n      <th>day-eve</th>\n      <th>day-night</th>\n      <th>day-intl</th>\n    </tr>\n  </thead>\n  <tbody>\n    <tr>\n      <th>0</th>\n      <td>KS</td>\n      <td>415</td>\n      <td>0</td>\n      <td>1</td>\n      <td>25</td>\n      <td>1</td>\n      <td>0</td>\n      <td>303</td>\n      <td>3</td>\n      <td>75.56</td>\n      <td>2</td>\n      <td>4</td>\n      <td>3</td>\n      <td>2</td>\n      <td>2</td>\n    </tr>\n    <tr>\n      <th>1</th>\n      <td>OH</td>\n      <td>415</td>\n      <td>0</td>\n      <td>1</td>\n      <td>26</td>\n      <td>1</td>\n      <td>0</td>\n      <td>332</td>\n      <td>4</td>\n      <td>59.24</td>\n      <td>1</td>\n      <td>5</td>\n      <td>3</td>\n      <td>3</td>\n      <td>2</td>\n    </tr>\n    <tr>\n      <th>2</th>\n      <td>NJ</td>\n      <td>415</td>\n      <td>0</td>\n      <td>0</td>\n      <td>0</td>\n      <td>0</td>\n      <td>0</td>\n      <td>333</td>\n      <td>4</td>\n      <td>62.29</td>\n      <td>2</td>\n      <td>4</td>\n      <td>4</td>\n      <td>3</td>\n      <td>3</td>\n    </tr>\n    <tr>\n      <th>3</th>\n      <td>OH</td>\n      <td>408</td>\n      <td>1</td>\n      <td>0</td>\n      <td>0</td>\n      <td>2</td>\n      <td>0</td>\n      <td>255</td>\n      <td>1</td>\n      <td>66.80</td>\n      <td>2</td>\n      <td>1</td>\n      <td>2</td>\n      <td>2</td>\n      <td>5</td>\n    </tr>\n    <tr>\n      <th>4</th>\n      <td>OK</td>\n      <td>415</td>\n      <td>1</td>\n      <td>0</td>\n      <td>0</td>\n      <td>3</td>\n      <td>0</td>\n      <td>359</td>\n      <td>5</td>\n      <td>52.09</td>\n      <td>1</td>\n      <td>4</td>\n      <td>5</td>\n      <td>5</td>\n      <td>2</td>\n    </tr>\n    <tr>\n      <th>...</th>\n      <td>...</td>\n      <td>...</td>\n      <td>...</td>\n      <td>...</td>\n      <td>...</td>\n      <td>...</td>\n      <td>...</td>\n      <td>...</td>\n      <td>...</td>\n      <td>...</td>\n      <td>...</td>\n      <td>...</td>\n      <td>...</td>\n      <td>...</td>\n      <td>...</td>\n    </tr>\n    <tr>\n      <th>4995</th>\n      <td>HI</td>\n      <td>408</td>\n      <td>0</td>\n      <td>1</td>\n      <td>40</td>\n      <td>2</td>\n      <td>0</td>\n      <td>374</td>\n      <td>5</td>\n      <td>75.09</td>\n      <td>2</td>\n      <td>5</td>\n      <td>5</td>\n      <td>4</td>\n      <td>3</td>\n    </tr>\n    <tr>\n      <th>4996</th>\n      <td>WV</td>\n      <td>415</td>\n      <td>0</td>\n      <td>0</td>\n      <td>0</td>\n      <td>3</td>\n      <td>1</td>\n      <td>278</td>\n      <td>2</td>\n      <td>66.72</td>\n      <td>2</td>\n      <td>2</td>\n      <td>1</td>\n      <td>4</td>\n      <td>1</td>\n    </tr>\n    <tr>\n      <th>4997</th>\n      <td>DC</td>\n      <td>415</td>\n      <td>0</td>\n      <td>0</td>\n      <td>0</td>\n      <td>1</td>\n      <td>0</td>\n      <td>318</td>\n      <td>4</td>\n      <td>51.82</td>\n      <td>1</td>\n      <td>2</td>\n      <td>5</td>\n      <td>3</td>\n      <td>3</td>\n    </tr>\n    <tr>\n      <th>4998</th>\n      <td>DC</td>\n      <td>510</td>\n      <td>0</td>\n      <td>0</td>\n      <td>0</td>\n      <td>0</td>\n      <td>0</td>\n      <td>254</td>\n      <td>1</td>\n      <td>59.09</td>\n      <td>1</td>\n      <td>1</td>\n      <td>2</td>\n      <td>2</td>\n      <td>4</td>\n    </tr>\n    <tr>\n      <th>4999</th>\n      <td>VT</td>\n      <td>415</td>\n      <td>0</td>\n      <td>1</td>\n      <td>34</td>\n      <td>0</td>\n      <td>0</td>\n      <td>322</td>\n      <td>4</td>\n      <td>54.18</td>\n      <td>1</td>\n      <td>3</td>\n      <td>3</td>\n      <td>3</td>\n      <td>5</td>\n    </tr>\n  </tbody>\n</table>\n<p>5000 rows × 15 columns</p>\n</div>"
          },
          "metadata": {}
        }
      ],
      "execution_count": 9,
      "block_group": "bef87ba4f23240a8a3cd0a35fdec44a8"
    },
    {
      "cell_type": "code",
      "source": "state_counts = df['state'].value_counts().sort_values(ascending=False)\n\n\n\nplt.figure(figsize=(12, 6))\nsns.countplot(data=df, x='state', order=state_counts.index)\nplt.title('Cantidad de Usuarios por Estado (Ordenado)')\nplt.xlabel('Estado')\nplt.ylabel('Cantidad de Usuarios')\nplt.xticks(rotation=90)\nplt.show()\n",
      "metadata": {
        "source_hash": "321841b5",
        "execution_start": 1696584737882,
        "execution_millis": 621,
        "deepnote_to_be_reexecuted": false,
        "cell_id": "ce02cb9600b74b4fbc3afab5b3261374",
        "deepnote_cell_type": "code"
      },
      "outputs": [
        {
          "data": {
            "text/plain": "<Figure size 1200x600 with 1 Axes>",
            "image/png": "[encoded data removed]"
          },
          "metadata": {
            "image/png": {
              "width": 1005,
              "height": 556
            }
          },
          "output_type": "display_data"
        }
      ],
      "execution_count": 10,
      "block_group": "aa8e2fea72d34fd0969f1c71cd19388a"
    },
    {
      "cell_type": "markdown",
      "source": "No apreciamos gran relacion entre que un cliente este en un estado y su tasa de deserción",
      "metadata": {
        "formattedRanges": [],
        "cell_id": "92c9e5042ebc4c459689961e13fc5172",
        "deepnote_cell_type": "text-cell-p"
      },
      "block_group": "2a5611d0869143658442b35fdd84eeac"
    },
    {
      "cell_type": "code",
      "source": "\nstate_churn_percentage = df.groupby('state')['Churn'].mean().reset_index()\n\n\nstate_user_counts = df['state'].value_counts().reset_index()\nstate_user_counts.columns = ['state', 'Cantidad de Usuarios']\n\n\nstate_data = pd.merge(state_churn_percentage, state_user_counts, on='state')\n\n\nplt.figure(figsize=(10, 6))\nsns.scatterplot(data=state_data, x='Churn', y='Cantidad de Usuarios', hue='state', legend=False)\nplt.title('Gráfico de Dispersión: Porcentaje de Churn vs Cantidad de Usuarios por Estado')\nplt.xlabel('Porcentaje de Churn=1')\nplt.ylabel('Cantidad de Usuarios')\nplt.grid(True)\n\n\nfor i, row in state_data.iterrows():\n    plt.annotate(row['state'], (row['Churn'], row['Cantidad de Usuarios']), fontsize=8, ha='right')\n\nplt.show()\ncorrelation = state_data['Churn'].corr(state_data['Cantidad de Usuarios'])\n\nprint( correlation)",
      "metadata": {
        "source_hash": "f1808139",
        "execution_start": 1696584738415,
        "execution_millis": 563,
        "deepnote_to_be_reexecuted": false,
        "cell_id": "eb1281d162f34022adf2c05757991908",
        "deepnote_cell_type": "code"
      },
      "outputs": [
        {
          "data": {
            "text/plain": "<Figure size 1000x600 with 1 Axes>",
            "image/png": "[encoded data removed]"
          },
          "metadata": {
            "image/png": {
              "width": 850,
              "height": 548
            }
          },
          "output_type": "display_data"
        },
        {
          "name": "stdout",
          "text": "0.03512800152829439\n",
          "output_type": "stream"
        }
      ],
      "execution_count": 11,
      "block_group": "ea5a08749d8440ecb69876981d8223fe"
    },
    {
      "cell_type": "markdown",
      "source": "Aqui podemos ver que tenemos una significativa tasa de deserción en cuanto lo usa para llamas internacionales o no.  ",
      "metadata": {
        "formattedRanges": [],
        "cell_id": "ae42289f2c24419f97709084fd4f2336",
        "deepnote_cell_type": "text-cell-p"
      },
      "block_group": "a0641925a81144368534854f4b89d79d"
    },
    {
      "cell_type": "code",
      "source": "fig, axes = plt.subplots(1, 4, figsize=(18, 5))\n\nscatter_columns = ['day-cla', 'day-eve', 'day-night', 'day-intl']\n\nfor i, col in enumerate(scatter_columns):\n    sns.barplot(data=df, x=col, y='Churn', ax=axes[i])\n    axes[i].set_title(f'Churn vs {col}')\n    axes[i].set_xlabel(col)\n    axes[i].set_ylabel('Churn')\n\nplt.tight_layout()\nplt.show()\n",
      "metadata": {
        "source_hash": "223a821e",
        "execution_start": 1696584738806,
        "execution_millis": 1307,
        "deepnote_to_be_reexecuted": false,
        "cell_id": "d1dff960023741b0bfb93ff787f4ff76",
        "deepnote_cell_type": "code"
      },
      "outputs": [
        {
          "data": {
            "text/plain": "<Figure size 1800x500 with 4 Axes>",
            "image/png": "[encoded data removed]"
          },
          "metadata": {
            "image/png": {
              "width": 1789,
              "height": 490
            }
          },
          "output_type": "display_data"
        }
      ],
      "execution_count": 12,
      "block_group": "964c4c5cf7d543068a31462bfcd32b4d"
    },
    {
      "cell_type": "code",
      "source": "plt.figure(figsize=(8, 6))\nsns.barplot(data=df, x='calls-cla', y='number_vmail_messages')\nplt.title('Número de Mensajes de Voz vs calls-cla')\nplt.xlabel('calls-cla')\nplt.ylabel('Número de Mensajes de Voz')\nplt.show()\n",
      "metadata": {
        "source_hash": "dc8cf8a8",
        "execution_start": 1696584739912,
        "execution_millis": 462,
        "deepnote_to_be_reexecuted": false,
        "cell_id": "85ef8e078b7b40eb84f75520e2f95b5d",
        "deepnote_cell_type": "code"
      },
      "outputs": [
        {
          "data": {
            "text/plain": "<Figure size 800x600 with 1 Axes>",
            "image/png": "[encoded data removed]"
          },
          "metadata": {
            "image/png": {
              "width": 678,
              "height": 548
            }
          },
          "output_type": "display_data"
        }
      ],
      "execution_count": 13,
      "block_group": "3bd2aaa64e3545a090ccee321a3d2abf"
    },
    {
      "cell_type": "markdown",
      "source": "Debajo podemos ver que mientras mas gasta, mas se queda el usuario",
      "metadata": {
        "formattedRanges": [],
        "cell_id": "efb32d23d6d64e4e80fcafd1f2c2844a",
        "deepnote_cell_type": "text-cell-p"
      },
      "block_group": "f4a3d3bee74c43d099b45cdc9791b728"
    },
    {
      "cell_type": "code",
      "source": "grouped_data = df.groupby(['calls-cla', 'charge-cla'])['Churn'].sum().reset_index()\n\n\nplt.figure(figsize=(12, 6))\nsns.barplot(data=grouped_data, x='calls-cla', y='Churn')\nplt.title('Suma de Churn por calls-cla')\nplt.xlabel('calls-cla')\nplt.ylabel('Suma de Churn')\nplt.xticks(rotation=90)\nplt.show()\n\n\nplt.figure(figsize=(12, 6))\nsns.barplot(data=grouped_data, x='charge-cla', y='Churn')\nplt.title('Suma de Churn por charge-cla')\nplt.xlabel('calls-cla')\nplt.ylabel('Suma de Churn')\nplt.xticks(rotation=90)\nplt.show()",
      "metadata": {
        "source_hash": "650b2ea4",
        "execution_start": 1696584740233,
        "execution_millis": 691,
        "deepnote_to_be_reexecuted": false,
        "cell_id": "a1697a23ec2f41638357d7ee79d0f99d",
        "deepnote_cell_type": "code"
      },
      "outputs": [
        {
          "data": {
            "text/plain": "<Figure size 1200x600 with 1 Axes>",
            "image/png": "[encoded data removed]"
          },
          "metadata": {
            "image/png": {
              "width": 996,
              "height": 542
            }
          },
          "output_type": "display_data"
        },
        {
          "data": {
            "text/plain": "<Figure size 1200x600 with 1 Axes>",
            "image/png": "[encoded data removed]"
          },
          "metadata": {
            "image/png": {
              "width": 996,
              "height": 542
            }
          },
          "output_type": "display_data"
        }
      ],
      "execution_count": 14,
      "block_group": "74a37b09a0714a6483061216f244214e"
    },
    {
      "cell_type": "markdown",
      "source": "Nuestras mejores relaciones se dan en llamadas a ss a cliente, international plan, charge",
      "metadata": {
        "formattedRanges": [],
        "cell_id": "46952101e45f45b39d13aece11eac7df",
        "deepnote_cell_type": "text-cell-p"
      },
      "block_group": "904d864695ab4fbd848d47214cf9f8fb"
    },
    {
      "cell_type": "code",
      "source": "correlation_matrix = df.corr()\nplt.figure(figsize=(8, 6))  \nsns.heatmap(correlation_matrix, annot=True, cmap='coolwarm', fmt=\".2f\")\nplt.title('Matriz de Correlación')\nplt.show()\n",
      "metadata": {
        "source_hash": "43a3276e",
        "execution_start": 1696584740788,
        "execution_millis": 985,
        "deepnote_to_be_reexecuted": false,
        "cell_id": "909b3ee55b754c1abb21a3faa5ef7304",
        "deepnote_cell_type": "code"
      },
      "outputs": [
        {
          "data": {
            "text/plain": "<Figure size 800x600 with 2 Axes>",
            "image/png": "[encoded data removed]"
          },
          "metadata": {
            "image/png": {
              "width": 832,
              "height": 735
            }
          },
          "output_type": "display_data"
        }
      ],
      "execution_count": 15,
      "block_group": "2a0774bdb1c84419aca8399bc4f99518"
    },
    {
      "cell_type": "markdown",
      "source": "# ML model",
      "metadata": {
        "formattedRanges": [],
        "cell_id": "36e8f490fd7c403f9894126b35583b63",
        "deepnote_cell_type": "text-cell-h1"
      },
      "block_group": "116f1e11243846779c4ded871dbe726e"
    },
    {
      "cell_type": "code",
      "source": "",
      "metadata": {
        "source_hash": "f804c160",
        "execution_start": 1696584868317,
        "execution_millis": 162,
        "deepnote_to_be_reexecuted": false,
        "cell_id": "a09887ecfe3b4c2f9e544a025d490ec3",
        "deepnote_cell_type": "code"
      },
      "outputs": [
        {
          "output_type": "execute_result",
          "execution_count": 20,
          "data": {
            "application/vnd.deepnote.dataframe.v3+json": {
              "column_count": 15,
              "row_count": 5000,
              "columns": [
                {
                  "name": "state",
                  "dtype": "object",
                  "stats": {
                    "unique_count": 51,
                    "nan_count": 0,
                    "categories": [
                      {
                        "name": "WV",
                        "count": 158
                      },
                      {
                        "name": "MN",
                        "count": 125
                      },
                      {
                        "name": "49 others",
                        "count": 4717
                      }
                    ]
                  }
                },
                {
                  "name": "area_code",
                  "dtype": "int64",
                  "stats": {
                    "unique_count": 3,
                    "nan_count": 0,
                    "min": "408",
                    "max": "510",
                    "histogram": [
                      {
                        "bin_start": 408,
                        "bin_end": 418.2,
                        "count": 3754
                      },
                      {
                        "bin_start": 418.2,
                        "bin_end": 428.4,
                        "count": 0
                      },
                      {
                        "bin_start": 428.4,
                        "bin_end": 438.6,
                        "count": 0
                      },
                      {
                        "bin_start": 438.6,
                        "bin_end": 448.8,
                        "count": 0
                      },
                      {
                        "bin_start": 448.8,
                        "bin_end": 459,
                        "count": 0
                      },
                      {
                        "bin_start": 459,
                        "bin_end": 469.2,
                        "count": 0
                      },
                      {
                        "bin_start": 469.2,
                        "bin_end": 479.4,
                        "count": 0
                      },
                      {
                        "bin_start": 479.4,
                        "bin_end": 489.6,
                        "count": 0
                      },
                      {
                        "bin_start": 489.6,
                        "bin_end": 499.8,
                        "count": 0
                      },
                      {
                        "bin_start": 499.8,
                        "bin_end": 510,
                        "count": 1246
                      }
                    ]
                  }
                },
                {
                  "name": "international_plan",
                  "dtype": "int64",
                  "stats": {
                    "unique_count": 2,
                    "nan_count": 0,
                    "min": "0",
                    "max": "1",
                    "histogram": [
                      {
                        "bin_start": 0,
                        "bin_end": 0.1,
                        "count": 4527
                      },
                      {
                        "bin_start": 0.1,
                        "bin_end": 0.2,
                        "count": 0
                      },
                      {
                        "bin_start": 0.2,
                        "bin_end": 0.30000000000000004,
                        "count": 0
                      },
                      {
                        "bin_start": 0.30000000000000004,
                        "bin_end": 0.4,
                        "count": 0
                      },
                      {
                        "bin_start": 0.4,
                        "bin_end": 0.5,
                        "count": 0
                      },
                      {
                        "bin_start": 0.5,
                        "bin_end": 0.6000000000000001,
                        "count": 0
                      },
                      {
                        "bin_start": 0.6000000000000001,
                        "bin_end": 0.7000000000000001,
                        "count": 0
                      },
                      {
                        "bin_start": 0.7000000000000001,
                        "bin_end": 0.8,
                        "count": 0
                      },
                      {
                        "bin_start": 0.8,
                        "bin_end": 0.9,
                        "count": 0
                      },
                      {
                        "bin_start": 0.9,
                        "bin_end": 1,
                        "count": 473
                      }
                    ]
                  }
                },
                {
                  "name": "voice_mail_plan",
                  "dtype": "int64",
                  "stats": {
                    "unique_count": 2,
                    "nan_count": 0,
                    "min": "0",
                    "max": "1",
                    "histogram": [
                      {
                        "bin_start": 0,
                        "bin_end": 0.1,
                        "count": 3677
                      },
                      {
                        "bin_start": 0.1,
                        "bin_end": 0.2,
                        "count": 0
                      },
                      {
                        "bin_start": 0.2,
                        "bin_end": 0.30000000000000004,
                        "count": 0
                      },
                      {
                        "bin_start": 0.30000000000000004,
                        "bin_end": 0.4,
                        "count": 0
                      },
                      {
                        "bin_start": 0.4,
                        "bin_end": 0.5,
                        "count": 0
                      },
                      {
                        "bin_start": 0.5,
                        "bin_end": 0.6000000000000001,
                        "count": 0
                      },
                      {
                        "bin_start": 0.6000000000000001,
                        "bin_end": 0.7000000000000001,
                        "count": 0
                      },
                      {
                        "bin_start": 0.7000000000000001,
                        "bin_end": 0.8,
                        "count": 0
                      },
                      {
                        "bin_start": 0.8,
                        "bin_end": 0.9,
                        "count": 0
                      },
                      {
                        "bin_start": 0.9,
                        "bin_end": 1,
                        "count": 1323
                      }
                    ]
                  }
                },
                {
                  "name": "number_vmail_messages",
                  "dtype": "int64",
                  "stats": {
                    "unique_count": 48,
                    "nan_count": 0,
                    "min": "0",
                    "max": "52",
                    "histogram": [
                      {
                        "bin_start": 0,
                        "bin_end": 5.2,
                        "count": 3679
                      },
                      {
                        "bin_start": 5.2,
                        "bin_end": 10.4,
                        "count": 10
                      },
                      {
                        "bin_start": 10.4,
                        "bin_end": 15.600000000000001,
                        "count": 39
                      },
                      {
                        "bin_start": 15.600000000000001,
                        "bin_end": 20.8,
                        "count": 115
                      },
                      {
                        "bin_start": 20.8,
                        "bin_end": 26,
                        "count": 255
                      },
                      {
                        "bin_start": 26,
                        "bin_end": 31.200000000000003,
                        "count": 397
                      },
                      {
                        "bin_start": 31.200000000000003,
                        "bin_end": 36.4,
                        "count": 250
                      },
                      {
                        "bin_start": 36.4,
                        "bin_end": 41.6,
                        "count": 176
                      },
                      {
                        "bin_start": 41.6,
                        "bin_end": 46.800000000000004,
                        "count": 63
                      },
                      {
                        "bin_start": 46.800000000000004,
                        "bin_end": 52,
                        "count": 16
                      }
                    ]
                  }
                },
                {
                  "name": "number_customer_service_calls",
                  "dtype": "int64",
                  "stats": {
                    "unique_count": 10,
                    "nan_count": 0,
                    "min": "0",
                    "max": "9",
                    "histogram": [
                      {
                        "bin_start": 0,
                        "bin_end": 0.9,
                        "count": 1023
                      },
                      {
                        "bin_start": 0.9,
                        "bin_end": 1.8,
                        "count": 1786
                      },
                      {
                        "bin_start": 1.8,
                        "bin_end": 2.7,
                        "count": 1127
                      },
                      {
                        "bin_start": 2.7,
                        "bin_end": 3.6,
                        "count": 665
                      },
                      {
                        "bin_start": 3.6,
                        "bin_end": 4.5,
                        "count": 252
                      },
                      {
                        "bin_start": 4.5,
                        "bin_end": 5.4,
                        "count": 96
                      },
                      {
                        "bin_start": 5.4,
                        "bin_end": 6.3,
                        "count": 34
                      },
                      {
                        "bin_start": 6.3,
                        "bin_end": 7.2,
                        "count": 13
                      },
                      {
                        "bin_start": 7.2,
                        "bin_end": 8.1,
                        "count": 2
                      },
                      {
                        "bin_start": 8.1,
                        "bin_end": 9,
                        "count": 2
                      }
                    ]
                  }
                },
                {
                  "name": "Churn",
                  "dtype": "int64",
                  "stats": {
                    "unique_count": 2,
                    "nan_count": 0,
                    "min": "0",
                    "max": "1",
                    "histogram": [
                      {
                        "bin_start": 0,
                        "bin_end": 0.1,
                        "count": 4293
                      },
                      {
                        "bin_start": 0.1,
                        "bin_end": 0.2,
                        "count": 0
                      },
                      {
                        "bin_start": 0.2,
                        "bin_end": 0.30000000000000004,
                        "count": 0
                      },
                      {
                        "bin_start": 0.30000000000000004,
                        "bin_end": 0.4,
                        "count": 0
                      },
                      {
                        "bin_start": 0.4,
                        "bin_end": 0.5,
                        "count": 0
                      },
                      {
                        "bin_start": 0.5,
                        "bin_end": 0.6000000000000001,
                        "count": 0
                      },
                      {
                        "bin_start": 0.6000000000000001,
                        "bin_end": 0.7000000000000001,
                        "count": 0
                      },
                      {
                        "bin_start": 0.7000000000000001,
                        "bin_end": 0.8,
                        "count": 0
                      },
                      {
                        "bin_start": 0.8,
                        "bin_end": 0.9,
                        "count": 0
                      },
                      {
                        "bin_start": 0.9,
                        "bin_end": 1,
                        "count": 707
                      }
                    ]
                  }
                },
                {
                  "name": "calls",
                  "dtype": "int64",
                  "stats": {
                    "unique_count": 214,
                    "nan_count": 0,
                    "min": "191",
                    "max": "10266",
                    "histogram": [
                      {
                        "bin_start": 191,
                        "bin_end": 1198.5,
                        "count": 4990
                      },
                      {
                        "bin_start": 1198.5,
                        "bin_end": 2206,
                        "count": 0
                      },
                      {
                        "bin_start": 2206,
                        "bin_end": 3213.5,
                        "count": 0
                      },
                      {
                        "bin_start": 3213.5,
                        "bin_end": 4221,
                        "count": 0
                      },
                      {
                        "bin_start": 4221,
                        "bin_end": 5228.5,
                        "count": 0
                      },
                      {
                        "bin_start": 5228.5,
                        "bin_end": 6236,
                        "count": 0
                      },
                      {
                        "bin_start": 6236,
                        "bin_end": 7243.5,
                        "count": 0
                      },
                      {
                        "bin_start": 7243.5,
                        "bin_end": 8251,
                        "count": 0
                      },
                      {
                        "bin_start": 8251,
                        "bin_end": 9258.5,
                        "count": 0
                      },
                      {
                        "bin_start": 9258.5,
                        "bin_end": 10266,
                        "count": 10
                      }
                    ]
                  }
                },
                {
                  "name": "calls-cla",
                  "dtype": "int64",
                  "stats": {
                    "unique_count": 5,
                    "nan_count": 0,
                    "min": "1",
                    "max": "5",
                    "histogram": [
                      {
                        "bin_start": 1,
                        "bin_end": 1.4,
                        "count": 1017
                      },
                      {
                        "bin_start": 1.4,
                        "bin_end": 1.8,
                        "count": 0
                      },
                      {
                        "bin_start": 1.8,
                        "bin_end": 2.2,
                        "count": 1017
                      },
                      {
                        "bin_start": 2.2,
                        "bin_end": 2.6,
                        "count": 0
                      },
                      {
                        "bin_start": 2.6,
                        "bin_end": 3,
                        "count": 0
                      },
                      {
                        "bin_start": 3,
                        "bin_end": 3.4000000000000004,
                        "count": 1001
                      },
                      {
                        "bin_start": 3.4000000000000004,
                        "bin_end": 3.8000000000000003,
                        "count": 0
                      },
                      {
                        "bin_start": 3.8000000000000003,
                        "bin_end": 4.2,
                        "count": 993
                      },
                      {
                        "bin_start": 4.2,
                        "bin_end": 4.6,
                        "count": 0
                      },
                      {
                        "bin_start": 4.6,
                        "bin_end": 5,
                        "count": 972
                      }
                    ]
                  }
                },
                {
                  "name": "charge",
                  "dtype": "float64",
                  "stats": {
                    "unique_count": 3298,
                    "nan_count": 0,
                    "min": "22.93",
                    "max": "96.15",
                    "histogram": [
                      {
                        "bin_start": 22.93,
                        "bin_end": 30.252,
                        "count": 14
                      },
                      {
                        "bin_start": 30.252,
                        "bin_end": 37.574,
                        "count": 83
                      },
                      {
                        "bin_start": 37.574,
                        "bin_end": 44.896,
                        "count": 284
                      },
                      {
                        "bin_start": 44.896,
                        "bin_end": 52.218,
                        "count": 832
                      },
                      {
                        "bin_start": 52.218,
                        "bin_end": 59.54,
                        "count": 1295
                      },
                      {
                        "bin_start": 59.54,
                        "bin_end": 66.862,
                        "count": 1314
                      },
                      {
                        "bin_start": 66.862,
                        "bin_end": 74.184,
                        "count": 784
                      },
                      {
                        "bin_start": 74.184,
                        "bin_end": 81.506,
                        "count": 305
                      },
                      {
                        "bin_start": 81.506,
                        "bin_end": 88.828,
                        "count": 77
                      },
                      {
                        "bin_start": 88.828,
                        "bin_end": 96.15,
                        "count": 12
                      }
                    ]
                  }
                },
                {
                  "name": "charge-cla",
                  "dtype": "int64",
                  "stats": {
                    "unique_count": 2,
                    "nan_count": 0,
                    "min": "1",
                    "max": "2",
                    "histogram": [
                      {
                        "bin_start": 1,
                        "bin_end": 1.1,
                        "count": 2501
                      },
                      {
                        "bin_start": 1.1,
                        "bin_end": 1.2,
                        "count": 0
                      },
                      {
                        "bin_start": 1.2,
                        "bin_end": 1.3,
                        "count": 0
                      },
                      {
                        "bin_start": 1.3,
                        "bin_end": 1.4,
                        "count": 0
                      },
                      {
                        "bin_start": 1.4,
                        "bin_end": 1.5,
                        "count": 0
                      },
                      {
                        "bin_start": 1.5,
                        "bin_end": 1.6,
                        "count": 0
                      },
                      {
                        "bin_start": 1.6,
                        "bin_end": 1.7000000000000002,
                        "count": 0
                      },
                      {
                        "bin_start": 1.7000000000000002,
                        "bin_end": 1.8,
                        "count": 0
                      },
                      {
                        "bin_start": 1.8,
                        "bin_end": 1.9,
                        "count": 0
                      },
                      {
                        "bin_start": 1.9,
                        "bin_end": 2,
                        "count": 2499
                      }
                    ]
                  }
                },
                {
                  "name": "day-cla",
                  "dtype": "int64",
                  "stats": {
                    "unique_count": 5,
                    "nan_count": 0,
                    "min": "1",
                    "max": "5",
                    "histogram": [
                      {
                        "bin_start": 1,
                        "bin_end": 1.4,
                        "count": 1058
                      },
                      {
                        "bin_start": 1.4,
                        "bin_end": 1.8,
                        "count": 0
                      },
                      {
                        "bin_start": 1.8,
                        "bin_end": 2.2,
                        "count": 968
                      },
                      {
                        "bin_start": 2.2,
                        "bin_end": 2.6,
                        "count": 0
                      },
                      {
                        "bin_start": 2.6,
                        "bin_end": 3,
                        "count": 0
                      },
                      {
                        "bin_start": 3,
                        "bin_end": 3.4000000000000004,
                        "count": 1000
                      },
                      {
                        "bin_start": 3.4000000000000004,
                        "bin_end": 3.8000000000000003,
                        "count": 0
                      },
                      {
                        "bin_start": 3.8000000000000003,
                        "bin_end": 4.2,
                        "count": 1041
                      },
                      {
                        "bin_start": 4.2,
                        "bin_end": 4.6,
                        "count": 0
                      },
                      {
                        "bin_start": 4.6,
                        "bin_end": 5,
                        "count": 933
                      }
                    ]
                  }
                },
                {
                  "name": "day-eve",
                  "dtype": "int64",
                  "stats": {
                    "unique_count": 5,
                    "nan_count": 0,
                    "min": "1",
                    "max": "5",
                    "histogram": [
                      {
                        "bin_start": 1,
                        "bin_end": 1.4,
                        "count": 1057
                      },
                      {
                        "bin_start": 1.4,
                        "bin_end": 1.8,
                        "count": 0
                      },
                      {
                        "bin_start": 1.8,
                        "bin_end": 2.2,
                        "count": 973
                      },
                      {
                        "bin_start": 2.2,
                        "bin_end": 2.6,
                        "count": 0
                      },
                      {
                        "bin_start": 2.6,
                        "bin_end": 3,
                        "count": 0
                      },
                      {
                        "bin_start": 3,
                        "bin_end": 3.4000000000000004,
                        "count": 1001
                      },
                      {
                        "bin_start": 3.4000000000000004,
                        "bin_end": 3.8000000000000003,
                        "count": 0
                      },
                      {
                        "bin_start": 3.8000000000000003,
                        "bin_end": 4.2,
                        "count": 1026
                      },
                      {
                        "bin_start": 4.2,
                        "bin_end": 4.6,
                        "count": 0
                      },
                      {
                        "bin_start": 4.6,
                        "bin_end": 5,
                        "count": 943
                      }
                    ]
                  }
                },
                {
                  "name": "day-night",
                  "dtype": "int64",
                  "stats": {
                    "unique_count": 5,
                    "nan_count": 0,
                    "min": "1",
                    "max": "5",
                    "histogram": [
                      {
                        "bin_start": 1,
                        "bin_end": 1.4,
                        "count": 1051
                      },
                      {
                        "bin_start": 1.4,
                        "bin_end": 1.8,
                        "count": 0
                      },
                      {
                        "bin_start": 1.8,
                        "bin_end": 2.2,
                        "count": 1005
                      },
                      {
                        "bin_start": 2.2,
                        "bin_end": 2.6,
                        "count": 0
                      },
                      {
                        "bin_start": 2.6,
                        "bin_end": 3,
                        "count": 0
                      },
                      {
                        "bin_start": 3,
                        "bin_end": 3.4000000000000004,
                        "count": 1011
                      },
                      {
                        "bin_start": 3.4000000000000004,
                        "bin_end": 3.8000000000000003,
                        "count": 0
                      },
                      {
                        "bin_start": 3.8000000000000003,
                        "bin_end": 4.2,
                        "count": 981
                      },
                      {
                        "bin_start": 4.2,
                        "bin_end": 4.6,
                        "count": 0
                      },
                      {
                        "bin_start": 4.6,
                        "bin_end": 5,
                        "count": 952
                      }
                    ]
                  }
                },
                {
                  "name": "day-intl",
                  "dtype": "int64",
                  "stats": {
                    "unique_count": 5,
                    "nan_count": 0,
                    "min": "1",
                    "max": "5",
                    "histogram": [
                      {
                        "bin_start": 1,
                        "bin_end": 1.4,
                        "count": 1032
                      },
                      {
                        "bin_start": 1.4,
                        "bin_end": 1.8,
                        "count": 0
                      },
                      {
                        "bin_start": 1.8,
                        "bin_end": 2.2,
                        "count": 992
                      },
                      {
                        "bin_start": 2.2,
                        "bin_end": 2.6,
                        "count": 0
                      },
                      {
                        "bin_start": 2.6,
                        "bin_end": 3,
                        "count": 0
                      },
                      {
                        "bin_start": 3,
                        "bin_end": 3.4000000000000004,
                        "count": 1659
                      },
                      {
                        "bin_start": 3.4000000000000004,
                        "bin_end": 3.8000000000000003,
                        "count": 0
                      },
                      {
                        "bin_start": 3.8000000000000003,
                        "bin_end": 4.2,
                        "count": 495
                      },
                      {
                        "bin_start": 4.2,
                        "bin_end": 4.6,
                        "count": 0
                      },
                      {
                        "bin_start": 4.6,
                        "bin_end": 5,
                        "count": 822
                      }
                    ]
                  }
                },
                {
                  "name": "_deepnote_index_column",
                  "dtype": "int64"
                }
              ],
              "rows": [
                {
                  "state": "KS",
                  "area_code": 415,
                  "international_plan": 0,
                  "voice_mail_plan": 1,
                  "number_vmail_messages": 25,
                  "number_customer_service_calls": 1,
                  "Churn": 0,
                  "calls": 303,
                  "calls-cla": 3,
                  "charge": 75.56,
                  "charge-cla": 2,
                  "day-cla": 4,
                  "day-eve": 3,
                  "day-night": 2,
                  "day-intl": 2,
                  "_deepnote_index_column": 0
                },
                {
                  "state": "OH",
                  "area_code": 415,
                  "international_plan": 0,
                  "voice_mail_plan": 1,
                  "number_vmail_messages": 26,
                  "number_customer_service_calls": 1,
                  "Churn": 0,
                  "calls": 332,
                  "calls-cla": 4,
                  "charge": 59.239999999999995,
                  "charge-cla": 1,
                  "day-cla": 5,
                  "day-eve": 3,
                  "day-night": 3,
                  "day-intl": 2,
                  "_deepnote_index_column": 1
                },
                {
                  "state": "NJ",
                  "area_code": 415,
                  "international_plan": 0,
                  "voice_mail_plan": 0,
                  "number_vmail_messages": 0,
                  "number_customer_service_calls": 0,
                  "Churn": 0,
                  "calls": 333,
                  "calls-cla": 4,
                  "charge": 62.290000000000006,
                  "charge-cla": 2,
                  "day-cla": 4,
                  "day-eve": 4,
                  "day-night": 3,
                  "day-intl": 3,
                  "_deepnote_index_column": 2
                },
                {
                  "state": "OH",
                  "area_code": 408,
                  "international_plan": 1,
                  "voice_mail_plan": 0,
                  "number_vmail_messages": 0,
                  "number_customer_service_calls": 2,
                  "Churn": 0,
                  "calls": 255,
                  "calls-cla": 1,
                  "charge": 66.8,
                  "charge-cla": 2,
                  "day-cla": 1,
                  "day-eve": 2,
                  "day-night": 2,
                  "day-intl": 5,
                  "_deepnote_index_column": 3
                },
                {
                  "state": "OK",
                  "area_code": 415,
                  "international_plan": 1,
                  "voice_mail_plan": 0,
                  "number_vmail_messages": 0,
                  "number_customer_service_calls": 3,
                  "Churn": 0,
                  "calls": 359,
                  "calls-cla": 5,
                  "charge": 52.09,
                  "charge-cla": 1,
                  "day-cla": 4,
                  "day-eve": 5,
                  "day-night": 5,
                  "day-intl": 2,
                  "_deepnote_index_column": 4
                },
                {
                  "state": "AL",
                  "area_code": 510,
                  "international_plan": 1,
                  "voice_mail_plan": 0,
                  "number_vmail_messages": 0,
                  "number_customer_service_calls": 0,
                  "Churn": 0,
                  "calls": 323,
                  "calls-cla": 4,
                  "charge": 67.61,
                  "charge-cla": 2,
                  "day-cla": 3,
                  "day-eve": 3,
                  "day-night": 5,
                  "day-intl": 4,
                  "_deepnote_index_column": 5
                },
                {
                  "state": "MA",
                  "area_code": 510,
                  "international_plan": 0,
                  "voice_mail_plan": 1,
                  "number_vmail_messages": 24,
                  "number_customer_service_calls": 3,
                  "Churn": 0,
                  "calls": 321,
                  "calls-cla": 4,
                  "charge": 78.31,
                  "charge-cla": 2,
                  "day-cla": 2,
                  "day-eve": 4,
                  "day-night": 5,
                  "day-intl": 5,
                  "_deepnote_index_column": 6
                },
                {
                  "state": "MO",
                  "area_code": 415,
                  "international_plan": 1,
                  "voice_mail_plan": 0,
                  "number_vmail_messages": 0,
                  "number_customer_service_calls": 0,
                  "Churn": 0,
                  "calls": 275,
                  "calls-cla": 1,
                  "charge": 46.900000000000006,
                  "charge-cla": 1,
                  "day-cla": 1,
                  "day-eve": 2,
                  "day-night": 3,
                  "day-intl": 4,
                  "_deepnote_index_column": 7
                },
                {
                  "state": "LA",
                  "area_code": 408,
                  "international_plan": 0,
                  "voice_mail_plan": 0,
                  "number_vmail_messages": 0,
                  "number_customer_service_calls": 1,
                  "Churn": 0,
                  "calls": 271,
                  "calls-cla": 1,
                  "charge": 73.32000000000001,
                  "charge-cla": 2,
                  "day-cla": 3,
                  "day-eve": 1,
                  "day-night": 2,
                  "day-intl": 3,
                  "_deepnote_index_column": 8
                },
                {
                  "state": "WV",
                  "area_code": 415,
                  "international_plan": 1,
                  "voice_mail_plan": 1,
                  "number_vmail_messages": 37,
                  "number_customer_service_calls": 0,
                  "Churn": 0,
                  "calls": 297,
                  "calls-cla": 3,
                  "charge": 80.53999999999999,
                  "charge-cla": 2,
                  "day-cla": 1,
                  "day-eve": 4,
                  "day-night": 3,
                  "day-intl": 3,
                  "_deepnote_index_column": 9
                }
              ]
            },
            "text/plain": "     state  area_code  international_plan  voice_mail_plan  \\\n0       KS        415                   0                1   \n1       OH        415                   0                1   \n2       NJ        415                   0                0   \n3       OH        408                   1                0   \n4       OK        415                   1                0   \n...    ...        ...                 ...              ...   \n4995    HI        408                   0                1   \n4996    WV        415                   0                0   \n4997    DC        415                   0                0   \n4998    DC        510                   0                0   \n4999    VT        415                   0                1   \n\n      number_vmail_messages  number_customer_service_calls  Churn  calls  \\\n0                        25                              1      0    303   \n1                        26                              1      0    332   \n2                         0                              0      0    333   \n3                         0                              2      0    255   \n4                         0                              3      0    359   \n...                     ...                            ...    ...    ...   \n4995                     40                              2      0    374   \n4996                      0                              3      1    278   \n4997                      0                              1      0    318   \n4998                      0                              0      0    254   \n4999                     34                              0      0    322   \n\n      calls-cla  charge  charge-cla  day-cla  day-eve  day-night  day-intl  \n0             3   75.56           2        4        3          2         2  \n1             4   59.24           1        5        3          3         2  \n2             4   62.29           2        4        4          3         3  \n3             1   66.80           2        1        2          2         5  \n4             5   52.09           1        4        5          5         2  \n...         ...     ...         ...      ...      ...        ...       ...  \n4995          5   75.09           2        5        5          4         3  \n4996          2   66.72           2        2        1          4         1  \n4997          4   51.82           1        2        5          3         3  \n4998          1   59.09           1        1        2          2         4  \n4999          4   54.18           1        3        3          3         5  \n\n[5000 rows x 15 columns]",
            "text/html": "<div>\n<style scoped>\n    .dataframe tbody tr th:only-of-type {\n        vertical-align: middle;\n    }\n\n    .dataframe tbody tr th {\n        vertical-align: top;\n    }\n\n    .dataframe thead th {\n        text-align: right;\n    }\n</style>\n<table border=\"1\" class=\"dataframe\">\n  <thead>\n    <tr style=\"text-align: right;\">\n      <th></th>\n      <th>state</th>\n      <th>area_code</th>\n      <th>international_plan</th>\n      <th>voice_mail_plan</th>\n      <th>number_vmail_messages</th>\n      <th>number_customer_service_calls</th>\n      <th>Churn</th>\n      <th>calls</th>\n      <th>calls-cla</th>\n      <th>charge</th>\n      <th>charge-cla</th>\n      <th>day-cla</th>\n      <th>day-eve</th>\n      <th>day-night</th>\n      <th>day-intl</th>\n    </tr>\n  </thead>\n  <tbody>\n    <tr>\n      <th>0</th>\n      <td>KS</td>\n      <td>415</td>\n      <td>0</td>\n      <td>1</td>\n      <td>25</td>\n      <td>1</td>\n      <td>0</td>\n      <td>303</td>\n      <td>3</td>\n      <td>75.56</td>\n      <td>2</td>\n      <td>4</td>\n      <td>3</td>\n      <td>2</td>\n      <td>2</td>\n    </tr>\n    <tr>\n      <th>1</th>\n      <td>OH</td>\n      <td>415</td>\n      <td>0</td>\n      <td>1</td>\n      <td>26</td>\n      <td>1</td>\n      <td>0</td>\n      <td>332</td>\n      <td>4</td>\n      <td>59.24</td>\n      <td>1</td>\n      <td>5</td>\n      <td>3</td>\n      <td>3</td>\n      <td>2</td>\n    </tr>\n    <tr>\n      <th>2</th>\n      <td>NJ</td>\n      <td>415</td>\n      <td>0</td>\n      <td>0</td>\n      <td>0</td>\n      <td>0</td>\n      <td>0</td>\n      <td>333</td>\n      <td>4</td>\n      <td>62.29</td>\n      <td>2</td>\n      <td>4</td>\n      <td>4</td>\n      <td>3</td>\n      <td>3</td>\n    </tr>\n    <tr>\n      <th>3</th>\n      <td>OH</td>\n      <td>408</td>\n      <td>1</td>\n      <td>0</td>\n      <td>0</td>\n      <td>2</td>\n      <td>0</td>\n      <td>255</td>\n      <td>1</td>\n      <td>66.80</td>\n      <td>2</td>\n      <td>1</td>\n      <td>2</td>\n      <td>2</td>\n      <td>5</td>\n    </tr>\n    <tr>\n      <th>4</th>\n      <td>OK</td>\n      <td>415</td>\n      <td>1</td>\n      <td>0</td>\n      <td>0</td>\n      <td>3</td>\n      <td>0</td>\n      <td>359</td>\n      <td>5</td>\n      <td>52.09</td>\n      <td>1</td>\n      <td>4</td>\n      <td>5</td>\n      <td>5</td>\n      <td>2</td>\n    </tr>\n    <tr>\n      <th>...</th>\n      <td>...</td>\n      <td>...</td>\n      <td>...</td>\n      <td>...</td>\n      <td>...</td>\n      <td>...</td>\n      <td>...</td>\n      <td>...</td>\n      <td>...</td>\n      <td>...</td>\n      <td>...</td>\n      <td>...</td>\n      <td>...</td>\n      <td>...</td>\n      <td>...</td>\n    </tr>\n    <tr>\n      <th>4995</th>\n      <td>HI</td>\n      <td>408</td>\n      <td>0</td>\n      <td>1</td>\n      <td>40</td>\n      <td>2</td>\n      <td>0</td>\n      <td>374</td>\n      <td>5</td>\n      <td>75.09</td>\n      <td>2</td>\n      <td>5</td>\n      <td>5</td>\n      <td>4</td>\n      <td>3</td>\n    </tr>\n    <tr>\n      <th>4996</th>\n      <td>WV</td>\n      <td>415</td>\n      <td>0</td>\n      <td>0</td>\n      <td>0</td>\n      <td>3</td>\n      <td>1</td>\n      <td>278</td>\n      <td>2</td>\n      <td>66.72</td>\n      <td>2</td>\n      <td>2</td>\n      <td>1</td>\n      <td>4</td>\n      <td>1</td>\n    </tr>\n    <tr>\n      <th>4997</th>\n      <td>DC</td>\n      <td>415</td>\n      <td>0</td>\n      <td>0</td>\n      <td>0</td>\n      <td>1</td>\n      <td>0</td>\n      <td>318</td>\n      <td>4</td>\n      <td>51.82</td>\n      <td>1</td>\n      <td>2</td>\n      <td>5</td>\n      <td>3</td>\n      <td>3</td>\n    </tr>\n    <tr>\n      <th>4998</th>\n      <td>DC</td>\n      <td>510</td>\n      <td>0</td>\n      <td>0</td>\n      <td>0</td>\n      <td>0</td>\n      <td>0</td>\n      <td>254</td>\n      <td>1</td>\n      <td>59.09</td>\n      <td>1</td>\n      <td>1</td>\n      <td>2</td>\n      <td>2</td>\n      <td>4</td>\n    </tr>\n    <tr>\n      <th>4999</th>\n      <td>VT</td>\n      <td>415</td>\n      <td>0</td>\n      <td>1</td>\n      <td>34</td>\n      <td>0</td>\n      <td>0</td>\n      <td>322</td>\n      <td>4</td>\n      <td>54.18</td>\n      <td>1</td>\n      <td>3</td>\n      <td>3</td>\n      <td>3</td>\n      <td>5</td>\n    </tr>\n  </tbody>\n</table>\n<p>5000 rows × 15 columns</p>\n</div>"
          },
          "metadata": {}
        }
      ],
      "execution_count": 20,
      "block_group": "9badcfa43f0d42f897fb6d8d6d5b5a7f"
    },
    {
      "cell_type": "code",
      "source": "dummed = ['state']\ndf_encoded = pd.get_dummies(df, columns=dummed)",
      "metadata": {
        "source_hash": "4f2216f6",
        "execution_start": 1696584741599,
        "execution_millis": 34,
        "deepnote_to_be_reexecuted": false,
        "cell_id": "a79487588aa548f3bae60a855a279610",
        "deepnote_cell_type": "code"
      },
      "outputs": [],
      "execution_count": 16,
      "block_group": "6edd918a38ce4417958f18d6c5c27822"
    },
    {
      "cell_type": "markdown",
      "source": "## Data preparation",
      "metadata": {
        "formattedRanges": [],
        "cell_id": "d85cd5792c1643c594d99496bd33b888",
        "deepnote_cell_type": "text-cell-h2"
      },
      "block_group": "02596180d45a467a9459b626ad8385de"
    },
    {
      "cell_type": "markdown",
      "source": "",
      "metadata": {
        "formattedRanges": [],
        "cell_id": "71c5e225533245958395d03d04d8f17a",
        "deepnote_cell_type": "text-cell-p"
      },
      "block_group": "9909072c72ba4bdba737ca8b31b3e8eb"
    },
    {
      "cell_type": "code",
      "source": "scaler = StandardScaler()\n\nX = df_encoded.drop(columns= ['Churn'])\ny = df_encoded['Churn']\n\nX.shape",
      "metadata": {
        "source_hash": "94145a5d",
        "execution_start": 1696585545222,
        "execution_millis": 63,
        "deepnote_to_be_reexecuted": false,
        "cell_id": "5691761a651b45ca94dba496bbd84006",
        "deepnote_cell_type": "code"
      },
      "outputs": [
        {
          "output_type": "execute_result",
          "execution_count": 32,
          "data": {
            "text/plain": "(5000, 64)"
          },
          "metadata": {}
        }
      ],
      "execution_count": 32,
      "block_group": "376ac1ab4ae74ec0a5915d0472d517cd"
    },
    {
      "cell_type": "code",
      "source": "pca = PCA(n_components=5) \nX_pca = pca.fit_transform(X)\n\nX_train, X_test, y_train, y_test = train_test_split(X_pca, y, test_size=0.2, random_state=42)\nX_pca_train_scaled = scaler.fit_transform(X_train)\nX_pca_test_scaled = scaler.transform(X_test)\n",
      "metadata": {
        "source_hash": "4a7592ee",
        "execution_start": 1696585605738,
        "execution_millis": 243,
        "deepnote_to_be_reexecuted": false,
        "cell_id": "3dab2abe1dc44f82badcae9948cee54e",
        "deepnote_cell_type": "code"
      },
      "outputs": [],
      "execution_count": 36,
      "block_group": "4c278cd7f2974f52867421e3b12f0869"
    },
    {
      "cell_type": "code",
      "source": "logistic_regression = LogisticRegression()\nlogistic_regression.fit(X_pca_train_scaled, y_train)\n\ny_pred = logistic_regression.predict(X_pca_test_scaled)\n\n\n# Evaluar con confusion_matrix y classification_report\nprint('Matriz de Confusión y Reporte de Clasificación con logistic:')\nprint(confusion_matrix(y_test, y_pred))\nprint(classification_report(y_test, y_pred))",
      "metadata": {
        "source_hash": "1d244bf1",
        "execution_start": 1696585845790,
        "execution_millis": 233,
        "deepnote_to_be_reexecuted": false,
        "cell_id": "644bdd547b1f4383a613a57c97505cea",
        "deepnote_cell_type": "code"
      },
      "outputs": [
        {
          "name": "stdout",
          "text": "Matriz de Confusión y Reporte de Clasificación con logistic:\n[[861   0]\n [134   5]]\n              precision    recall  f1-score   support\n\n           0       0.87      1.00      0.93       861\n           1       1.00      0.04      0.07       139\n\n    accuracy                           0.87      1000\n   macro avg       0.93      0.52      0.50      1000\nweighted avg       0.88      0.87      0.81      1000\n\n",
          "output_type": "stream"
        }
      ],
      "execution_count": 41,
      "block_group": "f52e63d5348647dcac6602bf33416ebb"
    },
    {
      "cell_type": "code",
      "source": "# Modelo ensemble: XGBoost\nxgb_classifier = xgb.XGBClassifier(n_estimators=100, random_state=42)\nxgb_classifier.fit(X_pca_train_scaled, y_train)\ny_pred_xgb = xgb_classifier.predict(X_pca_test_scaled)\n\n\n# Evaluar con confusion_matrix y classification_report\nprint('Matriz de Confusión y Reporte de Clasificación con XGBoost:')\nprint(confusion_matrix(y_test, y_pred_xgb))\nprint(classification_report(y_test, y_pred_xgb))",
      "metadata": {
        "source_hash": "94e67698",
        "execution_start": 1696585854508,
        "execution_millis": 102,
        "deepnote_to_be_reexecuted": false,
        "cell_id": "99397404cdec4249b625bbc8256db5e5",
        "deepnote_cell_type": "code"
      },
      "outputs": [
        {
          "name": "stdout",
          "text": "Matriz de Confusión y Reporte de Clasificación con XGBoost:\n[[854   7]\n [ 73  66]]\n              precision    recall  f1-score   support\n\n           0       0.92      0.99      0.96       861\n           1       0.90      0.47      0.62       139\n\n    accuracy                           0.92      1000\n   macro avg       0.91      0.73      0.79      1000\nweighted avg       0.92      0.92      0.91      1000\n\n",
          "output_type": "stream"
        }
      ],
      "execution_count": 43,
      "block_group": "866cb4d0b662400c80066f4c192de717"
    },
    {
      "cell_type": "code",
      "source": "umbral = 0.5\ny_binario = (y >= umbral).astype(int)\n\n\n# Regresión Logística con regularización Lasso\nlasso_classifier = LogisticRegression(penalty='l1', solver='liblinear', C=1.0)\nlasso_classifier.fit(X_pca_train_scaled, y_train)\ny_pred_lasso = lasso_classifier.predict(X_pca_test_scaled)\n\n# Evaluar el modelo\naccuracy = accuracy_score(y_test, y_pred_lasso)\nconfusion = confusion_matrix(y_test, y_pred_lasso)\nclassification_rep = classification_report(y_test, y_pred_lasso)\n\nprint(f'Accuracy con Regresión Lasso: {accuracy:.2f}')\nprint('Matriz de Confusión:')\nprint(confusion)\nprint('Reporte de Clasificación:')\nprint(classification_rep)",
      "metadata": {
        "source_hash": "974fe35c",
        "execution_start": 1696585986866,
        "execution_millis": 124,
        "deepnote_to_be_reexecuted": false,
        "cell_id": "de191aa702b8423b969e7b3987dd466f",
        "deepnote_cell_type": "code"
      },
      "outputs": [
        {
          "name": "stdout",
          "text": "Accuracy con Regresión Lasso: 0.87\nMatriz de Confusión:\n[[861   0]\n [134   5]]\nReporte de Clasificación:\n              precision    recall  f1-score   support\n\n           0       0.87      1.00      0.93       861\n           1       1.00      0.04      0.07       139\n\n    accuracy                           0.87      1000\n   macro avg       0.93      0.52      0.50      1000\nweighted avg       0.88      0.87      0.81      1000\n\n",
          "output_type": "stream"
        }
      ],
      "execution_count": 45,
      "block_group": "24551fa28b64460baa663d4bbf68882b"
    },
    {
      "cell_type": "markdown",
      "source": "Observaciones:",
      "metadata": {
        "formattedRanges": [],
        "cell_id": "6ee05b1732ca46f48f1352881f2e9c68",
        "deepnote_cell_type": "text-cell-p"
      },
      "block_group": "b0122b88e0b2410cb63932faf69b45c0"
    },
    {
      "cell_type": "markdown",
      "source": "Los resultados de Regresión Logística smuy parecidos a los de Regresión Lasso, lo que sugiere que la regularización Lasso no tienen un  impacto diferencial para este analisis.",
      "metadata": {
        "formattedRanges": [],
        "cell_id": "a400ac650eaf4ca58851b83ed096fdaf",
        "deepnote_cell_type": "text-cell-p"
      },
      "block_group": "e1a5d2c91a184469b816cf8a61ec84ec"
    },
    {
      "cell_type": "markdown",
      "source": "\r\nComparación:",
      "metadata": {
        "formattedRanges": [],
        "cell_id": "5098c8f0e4364ea39a35bbd043b02e48",
        "deepnote_cell_type": "text-cell-p"
      },
      "block_group": "6e06d219e2ae46a9a662d28827936fff"
    },
    {
      "cell_type": "markdown",
      "source": "XGBoost supera a los otros dos modelos  para la clase 1  proporcionando a su vez un mejor equilibrio entre precisión y recall.\r\nAunque Regresión Lasso y Regresión Logística tienen un buen accuracy general, son deficientes en la identificación de clientes que abandonaron (clase 1).\r\n\nEs importante considerar que estas evaluaciones se basan en un umbral predeterminado (0.5) el cual podemos modificar y ver cómo afecta el rendimiento del modelo.",
      "metadata": {
        "formattedRanges": [],
        "cell_id": "b53b7785ff824108802e340ef719ca9f",
        "deepnote_cell_type": "text-cell-p"
      },
      "block_group": "f2007a1acc9741609d44c84ff4d33c2c"
    },
    {
      "cell_type": "markdown",
      "source": "",
      "metadata": {
        "formattedRanges": [],
        "cell_id": "738a611f1f0b408486e4d2fddc93ed8b",
        "deepnote_cell_type": "text-cell-p"
      },
      "block_group": "5ec1834413af4b5cb9c708c256c0480b"
    },
    {
      "cell_type": "markdown",
      "source": "En sintesis ver que la mejor aproximacion es XGBoost con menor tasa de errores y accuracy mas elevado.",
      "metadata": {
        "formattedRanges": [],
        "cell_id": "6f2d80fd1bcf405fa4aa8a0e6b395b2c",
        "deepnote_cell_type": "text-cell-p"
      },
      "block_group": "3b79778ca35b48cbb2f5314365b3b5ed"
    },
    {
      "cell_type": "markdown",
      "source": "",
      "metadata": {
        "formattedRanges": [],
        "cell_id": "69f0d6a014934ed881bdec91fa07b077",
        "deepnote_cell_type": "text-cell-p"
      },
      "block_group": "5406f49464bc43e597ba65955263e8c1"
    },
    {
      "cell_type": "markdown",
      "source": "4 Próximos pasos\r\n(1) Clientes objetivo\r\nAsume que vas a ejecutar acciones comerciales con 500 clientes, y que estas acciones tienen\r\nun coste 0. ¿Cómo seleccionarías a esos 500 clientes objetivo, para obtener un máximo\r\nbeneficio?",
      "metadata": {
        "formattedRanges": [],
        "cell_id": "3d923aa312dc421c9ca1db168943fffe",
        "deepnote_cell_type": "text-cell-p"
      },
      "block_group": "d1d18f555b744d89b7c77dde099b7b3e"
    },
    {
      "cell_type": "markdown",
      "source": "En este caso con las medidas que podemos apreciar mas arriba buscariamos que los clientes tomen planes internacionales lo cual hace que se genere mayor fidelidad",
      "metadata": {
        "formattedRanges": [],
        "cell_id": "002d529cf1c24bfc855fe507ab51eebc",
        "deepnote_cell_type": "text-cell-p"
      },
      "block_group": "026a7708e09d4407971163fa6f13aa91"
    },
    {
      "cell_type": "markdown",
      "source": "",
      "metadata": {
        "formattedRanges": [],
        "cell_id": "cd5b32374b2d4496b507b933ebf924d5",
        "deepnote_cell_type": "text-cell-p"
      },
      "block_group": "87fbb5d6507345d0a9621bfdbc43b6b8"
    },
    {
      "cell_type": "markdown",
      "source": "\r\n(2) Clientes objetivo con diferentes niveles de beneficio\r\nHasta este punto has asumido que todos los clientes tienen el mismo valor para la telco.\r\nIncorpora ahora la idea de que los clientes tienen diferentes niveles de beneficio para la telco, y\r\nque te interesa más conservar unos que otros. (Puedes por ejemplo utilizar la variable que has\r\ngenerado para agrupar clientes por niveles de consumo). ¿Cómo seleccionarías a los 500\r\nclientes objetivo, para obtener un máximo beneficio?",
      "metadata": {
        "formattedRanges": [],
        "cell_id": "0f4451f1f74e4376a74615ae74a4b6d2",
        "deepnote_cell_type": "text-cell-p"
      },
      "block_group": "6759820d7435492aa168c8f30f2e2076"
    },
    {
      "cell_type": "markdown",
      "source": "Buscaria los clientes que sean de consumo medio pero esten dentro del 1 pero no tengan planes internacionales y si tengan gastos realizados en este ambito para buscar convertirlos.",
      "metadata": {
        "formattedRanges": [],
        "cell_id": "e4fd6d593f7b4abab9039b50a541ecf7",
        "deepnote_cell_type": "text-cell-p"
      },
      "block_group": "dd9a5f7541914591b998e579c951f688"
    },
    {
      "cell_type": "markdown",
      "source": "<a style='text-decoration:none;line-height:16px;display:flex;color:#5B5B62;padding:10px;justify-content:end;' href='https://deepnote.com?utm_source=created-in-deepnote-cell&projectId=d760eadb-aa00-42e0-b3ce-21e258218c51' target=\"_blank\">\n<img alt='Created in deepnote.com' style='display:inline;max-height:16px;margin:0px;margin-right:7.5px;' src='data:image/svg+xml;base64,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' > </img>\nCreated in <span style='font-weight:600;margin-left:4px;'>Deepnote</span></a>",
      "metadata": {
        "created_in_deepnote_cell": true,
        "deepnote_cell_type": "markdown"
      }
    }
  ],
  "nbformat": 4,
  "nbformat_minor": 0,
  "metadata": {
    "deepnote": {},
    "orig_nbformat": 2,
    "deepnote_notebook_id": "fc3ec02b6a6e4393a8ca11ca71602377",
    "deepnote_persisted_session": {
      "createdAt": "2023-10-04T16:01:27.746Z"
    },
    "deepnote_execution_queue": []
  }
}