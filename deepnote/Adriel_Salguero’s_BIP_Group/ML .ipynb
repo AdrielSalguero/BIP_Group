{
  "cells": [
    {
      "cell_type": "code",
      "source": "!pip install pandas \n!pip install numpy\n!pip install seaborn\n!pip install matplot.lib\n!pip install sklearn",
      "metadata": {
        "cell_id": "58c15e1ba7634fcd8a1814961d1cdc93",
        "deepnote_cell_type": "code"
      },
      "outputs": [],
      "execution_count": null,
      "block_group": "58c15e1ba7634fcd8a1814961d1cdc93"
    },
    {
      "cell_type": "code",
      "source": "import numpy as np\nimport pandas as pd\nfrom sklearn.model_selection import train_test_split\nfrom sklearn.preprocessing import StandardScaler\nfrom sklearn.linear_model import LogisticRegression\nfrom sklearn.metrics import accuracy_score, confusion_matrix, classification_report\nfrom sklearn.decomposition import PCA",
      "metadata": {
        "cell_id": "1042d4540f9b4fb8bd0c7ea03f79cc3f",
        "deepnote_cell_type": "code"
      },
      "outputs": [],
      "execution_count": null,
      "block_group": "7c8d095da7de4cd5ac09cfcddb41e40b"
    },
    {
      "cell_type": "code",
      "source": "df = pd.read_csv('', sep= )\n\nprint(df.info(), df.duplicated().sum())\n\ndf",
      "metadata": {
        "cell_id": "03037a950776478692b7ccbfd1103d17",
        "deepnote_cell_type": "code"
      },
      "outputs": [],
      "execution_count": null,
      "block_group": "9e3ebf299f2d4fe6961dc37e3e7cb622"
    },
    {
      "cell_type": "code",
      "source": "columns_drop = []\n\n\ndf = df.drop(columns=columns_drop)\ndf.rename(columns={'key': 'Value', 'key': 'Value','key': 'Value','key': 'Value','key': 'Value',}, inplace=True)\n\n\n\ndf['Column'] = df['Column'].str.extract('(\\d+)') ",
      "metadata": {
        "cell_id": "e875c77bd5bc42da8465c0416c9a248b",
        "deepnote_cell_type": "code"
      },
      "outputs": [],
      "execution_count": null,
      "block_group": "bef87ba4f23240a8a3cd0a35fdec44a8"
    },
    {
      "cell_type": "code",
      "source": "correlation_matrix = df.corr()\nplt.figure(figsize=(8, 6))  \nsns.heatmap(correlation_matrix, annot=True, cmap='coolwarm', fmt=\".2f\")\nplt.title('Matriz de Correlación')\nplt.show()\n",
      "metadata": {
        "cell_id": "909b3ee55b754c1abb21a3faa5ef7304",
        "deepnote_cell_type": "code"
      },
      "outputs": [],
      "execution_count": null,
      "block_group": "2a0774bdb1c84419aca8399bc4f99518"
    },
    {
      "cell_type": "code",
      "source": "",
      "metadata": {
        "cell_id": "3320e368727a49dfb0383a7f6c867059",
        "deepnote_cell_type": "code"
      },
      "outputs": [],
      "execution_count": null,
      "block_group": "ce12544ac4e84315845b03af9000a2cd"
    },
    {
      "cell_type": "markdown",
      "source": "# ML model",
      "metadata": {
        "formattedRanges": [],
        "cell_id": "36e8f490fd7c403f9894126b35583b63",
        "deepnote_cell_type": "text-cell-h1"
      },
      "block_group": "116f1e11243846779c4ded871dbe726e"
    },
    {
      "cell_type": "code",
      "source": "dummed = []\ndf_encoded = pd.get_dummies(dataframe, columns=dummed)\n",
      "metadata": {
        "cell_id": "a79487588aa548f3bae60a855a279610",
        "deepnote_cell_type": "code"
      },
      "outputs": [],
      "execution_count": null,
      "block_group": "6edd918a38ce4417958f18d6c5c27822"
    },
    {
      "cell_type": "markdown",
      "source": "## Data preparation",
      "metadata": {
        "formattedRanges": [],
        "cell_id": "d85cd5792c1643c594d99496bd33b888",
        "deepnote_cell_type": "text-cell-h2"
      },
      "block_group": "02596180d45a467a9459b626ad8385de"
    },
    {
      "cell_type": "code",
      "source": "X = df_encoded.drop(, axis=1)  \ny = df_encoded[]\nX_train, X_test, y_train, y_test = train_test_split(X, y, test_size=0.2, random_state=42)\n",
      "metadata": {
        "cell_id": "2aa2a95e6107474b8c2471acf868be05",
        "deepnote_cell_type": "code"
      },
      "outputs": [],
      "execution_count": null,
      "block_group": "913693eeb6f247928e7ba501f6110e48"
    },
    {
      "cell_type": "code",
      "source": "scaler = StandardScaler()\nX = df[['feature1', 'feature2', 'feature3']]  # Selecciona las características que deseas escalar\nX_scaled = scaler.fit_transform(X)\n",
      "metadata": {
        "cell_id": "6f0f787105ff4b658ae17ba867407330",
        "deepnote_cell_type": "code"
      },
      "outputs": [],
      "execution_count": null,
      "block_group": "7f24abc6e7784108bd9bc70e45ea075d"
    },
    {
      "cell_type": "markdown",
      "source": "## PCA",
      "metadata": {
        "formattedRanges": [],
        "cell_id": "60adf34f87644e99bf7fa20816b710a9",
        "deepnote_cell_type": "text-cell-h2"
      },
      "block_group": "f437cf70468344b79ac11eaa2a25a7e2"
    },
    {
      "cell_type": "code",
      "source": "pca = PCA(0.90) #90% use full features\npca = PCA(n_components =)\n\nX_pca = pca.fit_transform(X)\nprint(' X_pca shape = ', X_pca.shape,' X shape = ', X )",
      "metadata": {
        "cell_id": "ea352e6786f3460bbe947e48a157342e",
        "deepnote_cell_type": "code"
      },
      "outputs": [],
      "execution_count": null,
      "block_group": "1e09c6544166448082bcf76ad9edb6e3"
    },
    {
      "cell_type": "markdown",
      "source": "## Training",
      "metadata": {
        "formattedRanges": [],
        "cell_id": "621181d48caa4bc59f249872a8810182",
        "deepnote_cell_type": "text-cell-h2"
      },
      "block_group": "1164a4d4ab9f46e499a6525e4549fdd6"
    },
    {
      "cell_type": "code",
      "source": "model = LogisticRegression()\nmodel.fit(X_train, y_train)\n",
      "metadata": {
        "cell_id": "a402b62f2a354a84831b5471d09849ee",
        "deepnote_cell_type": "code"
      },
      "outputs": [],
      "execution_count": null,
      "block_group": "374e3a9ae83c42c5b7ad8051c53b9406"
    },
    {
      "cell_type": "code",
      "source": "y_pred = model.predict(X_test)",
      "metadata": {
        "cell_id": "72fbd7f248b840429647f11915f7e0b8",
        "deepnote_cell_type": "code"
      },
      "outputs": [],
      "execution_count": null,
      "block_group": "99ed54a4a79c4b72be5860b422786db9"
    },
    {
      "cell_type": "markdown",
      "source": "## Evaluación del modelo",
      "metadata": {
        "formattedRanges": [],
        "cell_id": "b8f7ce1ed97a454594b6972f4627f366",
        "deepnote_cell_type": "text-cell-h2"
      },
      "block_group": "206839462e7b4505ac1ce96f7a8d8287"
    },
    {
      "cell_type": "code",
      "source": "\naccuracy = accuracy_score(y_test, y_pred)\nconf_matrix = confusion_matrix(y_test, y_pred)\nclassification_rep = classification_report(y_test, y_pred)\n\nprint(\"Accuracy:\", accuracy)\nprint(\"Confusion Matrix:\\n\", conf_matrix)\nprint(\"Classification Report:\\n\", classification_rep)\n",
      "metadata": {
        "cell_id": "d27927404f754f54aebcf9d2150b73d9",
        "deepnote_cell_type": "code"
      },
      "outputs": [],
      "execution_count": null,
      "block_group": "18aa3aa1bd7c42e591753035126afc67"
    },
    {
      "cell_type": "markdown",
      "source": "<a style='text-decoration:none;line-height:16px;display:flex;color:#5B5B62;padding:10px;justify-content:end;' href='https://deepnote.com?utm_source=created-in-deepnote-cell&projectId=d760eadb-aa00-42e0-b3ce-21e258218c51' target=\"_blank\">\n<img alt='Created in deepnote.com' style='display:inline;max-height:16px;margin:0px;margin-right:7.5px;' src='data:image/svg+xml;base64,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' > </img>\nCreated in <span style='font-weight:600;margin-left:4px;'>Deepnote</span></a>",
      "metadata": {
        "created_in_deepnote_cell": true,
        "deepnote_cell_type": "markdown"
      }
    }
  ],
  "nbformat": 4,
  "nbformat_minor": 0,
  "metadata": {
    "deepnote": {},
    "orig_nbformat": 2,
    "deepnote_notebook_id": "fc3ec02b6a6e4393a8ca11ca71602377",
    "deepnote_persisted_session": {
      "createdAt": "2023-10-04T16:01:27.746Z"
    },
    "deepnote_execution_queue": []
  }
}